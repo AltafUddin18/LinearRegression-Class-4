{
 "cells": [
  {
   "cell_type": "markdown",
   "id": "ad7a0246",
   "metadata": {
    "papermill": {
     "duration": 0.013205,
     "end_time": "2023-05-10T09:04:55.614366",
     "exception": false,
     "start_time": "2023-05-10T09:04:55.601161",
     "status": "completed"
    },
    "tags": []
   },
   "source": [
    "# Class 4"
   ]
  },
  {
   "cell_type": "code",
   "execution_count": 1,
   "id": "599ea3f1",
   "metadata": {
    "execution": {
     "iopub.execute_input": "2023-05-10T09:04:55.642237Z",
     "iopub.status.busy": "2023-05-10T09:04:55.641823Z",
     "iopub.status.idle": "2023-05-10T09:04:57.058549Z",
     "shell.execute_reply": "2023-05-10T09:04:57.057336Z"
    },
    "papermill": {
     "duration": 1.434131,
     "end_time": "2023-05-10T09:04:57.061415",
     "exception": false,
     "start_time": "2023-05-10T09:04:55.627284",
     "status": "completed"
    },
    "tags": []
   },
   "outputs": [
    {
     "name": "stderr",
     "output_type": "stream",
     "text": [
      "/opt/conda/lib/python3.10/site-packages/scipy/__init__.py:146: UserWarning: A NumPy version >=1.16.5 and <1.23.0 is required for this version of SciPy (detected version 1.23.5\n",
      "  warnings.warn(f\"A NumPy version >={np_minversion} and <{np_maxversion}\"\n"
     ]
    }
   ],
   "source": [
    "import pandas as pd\n",
    "import numpy as np\n",
    "import seaborn as sns \n",
    "from matplotlib import pyplot as plt"
   ]
  },
  {
   "cell_type": "code",
   "execution_count": 2,
   "id": "e914c3e1",
   "metadata": {
    "execution": {
     "iopub.execute_input": "2023-05-10T09:04:57.089477Z",
     "iopub.status.busy": "2023-05-10T09:04:57.088489Z",
     "iopub.status.idle": "2023-05-10T09:04:57.109383Z",
     "shell.execute_reply": "2023-05-10T09:04:57.108258Z"
    },
    "papermill": {
     "duration": 0.037907,
     "end_time": "2023-05-10T09:04:57.112147",
     "exception": false,
     "start_time": "2023-05-10T09:04:57.074240",
     "status": "completed"
    },
    "tags": []
   },
   "outputs": [],
   "source": [
    "df = pd.read_csv(\"/kaggle/input/dhakarent/DhakaRent.csv\")"
   ]
  },
  {
   "cell_type": "code",
   "execution_count": 3,
   "id": "2f7c2bfe",
   "metadata": {
    "collapsed": true,
    "execution": {
     "iopub.execute_input": "2023-05-10T09:04:57.141137Z",
     "iopub.status.busy": "2023-05-10T09:04:57.140463Z",
     "iopub.status.idle": "2023-05-10T09:04:57.168273Z",
     "shell.execute_reply": "2023-05-10T09:04:57.167197Z"
    },
    "jupyter": {
     "outputs_hidden": true
    },
    "papermill": {
     "duration": 0.045653,
     "end_time": "2023-05-10T09:04:57.170941",
     "exception": false,
     "start_time": "2023-05-10T09:04:57.125288",
     "status": "completed"
    },
    "tags": []
   },
   "outputs": [
    {
     "data": {
      "text/html": [
       "<div>\n",
       "<style scoped>\n",
       "    .dataframe tbody tr th:only-of-type {\n",
       "        vertical-align: middle;\n",
       "    }\n",
       "\n",
       "    .dataframe tbody tr th {\n",
       "        vertical-align: top;\n",
       "    }\n",
       "\n",
       "    .dataframe thead th {\n",
       "        text-align: right;\n",
       "    }\n",
       "</style>\n",
       "<table border=\"1\" class=\"dataframe\">\n",
       "  <thead>\n",
       "    <tr style=\"text-align: right;\">\n",
       "      <th></th>\n",
       "      <th>area</th>\n",
       "      <th>rent</th>\n",
       "    </tr>\n",
       "  </thead>\n",
       "  <tbody>\n",
       "    <tr>\n",
       "      <th>0</th>\n",
       "      <td>2000</td>\n",
       "      <td>31500</td>\n",
       "    </tr>\n",
       "    <tr>\n",
       "      <th>1</th>\n",
       "      <td>2100</td>\n",
       "      <td>35000</td>\n",
       "    </tr>\n",
       "    <tr>\n",
       "      <th>2</th>\n",
       "      <td>2500</td>\n",
       "      <td>41050</td>\n",
       "    </tr>\n",
       "    <tr>\n",
       "      <th>3</th>\n",
       "      <td>2250</td>\n",
       "      <td>36100</td>\n",
       "    </tr>\n",
       "    <tr>\n",
       "      <th>4</th>\n",
       "      <td>3000</td>\n",
       "      <td>52100</td>\n",
       "    </tr>\n",
       "  </tbody>\n",
       "</table>\n",
       "</div>"
      ],
      "text/plain": [
       "   area   rent\n",
       "0  2000  31500\n",
       "1  2100  35000\n",
       "2  2500  41050\n",
       "3  2250  36100\n",
       "4  3000  52100"
      ]
     },
     "execution_count": 3,
     "metadata": {},
     "output_type": "execute_result"
    }
   ],
   "source": [
    "df.head()"
   ]
  },
  {
   "cell_type": "code",
   "execution_count": 4,
   "id": "aa62135f",
   "metadata": {
    "execution": {
     "iopub.execute_input": "2023-05-10T09:04:57.200172Z",
     "iopub.status.busy": "2023-05-10T09:04:57.199484Z",
     "iopub.status.idle": "2023-05-10T09:04:57.208681Z",
     "shell.execute_reply": "2023-05-10T09:04:57.207552Z"
    },
    "papermill": {
     "duration": 0.027028,
     "end_time": "2023-05-10T09:04:57.211247",
     "exception": false,
     "start_time": "2023-05-10T09:04:57.184219",
     "status": "completed"
    },
    "tags": []
   },
   "outputs": [
    {
     "data": {
      "text/html": [
       "<div>\n",
       "<style scoped>\n",
       "    .dataframe tbody tr th:only-of-type {\n",
       "        vertical-align: middle;\n",
       "    }\n",
       "\n",
       "    .dataframe tbody tr th {\n",
       "        vertical-align: top;\n",
       "    }\n",
       "\n",
       "    .dataframe thead th {\n",
       "        text-align: right;\n",
       "    }\n",
       "</style>\n",
       "<table border=\"1\" class=\"dataframe\">\n",
       "  <thead>\n",
       "    <tr style=\"text-align: right;\">\n",
       "      <th></th>\n",
       "      <th>area</th>\n",
       "      <th>rent</th>\n",
       "    </tr>\n",
       "  </thead>\n",
       "  <tbody>\n",
       "    <tr>\n",
       "      <th>35</th>\n",
       "      <td>1900</td>\n",
       "      <td>32300</td>\n",
       "    </tr>\n",
       "    <tr>\n",
       "      <th>36</th>\n",
       "      <td>1500</td>\n",
       "      <td>20200</td>\n",
       "    </tr>\n",
       "    <tr>\n",
       "      <th>37</th>\n",
       "      <td>1850</td>\n",
       "      <td>24000</td>\n",
       "    </tr>\n",
       "    <tr>\n",
       "      <th>38</th>\n",
       "      <td>2700</td>\n",
       "      <td>47500</td>\n",
       "    </tr>\n",
       "    <tr>\n",
       "      <th>39</th>\n",
       "      <td>2100</td>\n",
       "      <td>31500</td>\n",
       "    </tr>\n",
       "  </tbody>\n",
       "</table>\n",
       "</div>"
      ],
      "text/plain": [
       "    area   rent\n",
       "35  1900  32300\n",
       "36  1500  20200\n",
       "37  1850  24000\n",
       "38  2700  47500\n",
       "39  2100  31500"
      ]
     },
     "execution_count": 4,
     "metadata": {},
     "output_type": "execute_result"
    }
   ],
   "source": [
    "df.tail()"
   ]
  },
  {
   "cell_type": "code",
   "execution_count": 5,
   "id": "98f7bec7",
   "metadata": {
    "execution": {
     "iopub.execute_input": "2023-05-10T09:04:57.240440Z",
     "iopub.status.busy": "2023-05-10T09:04:57.239365Z",
     "iopub.status.idle": "2023-05-10T09:04:57.266229Z",
     "shell.execute_reply": "2023-05-10T09:04:57.264553Z"
    },
    "papermill": {
     "duration": 0.044368,
     "end_time": "2023-05-10T09:04:57.268994",
     "exception": false,
     "start_time": "2023-05-10T09:04:57.224626",
     "status": "completed"
    },
    "tags": []
   },
   "outputs": [
    {
     "name": "stdout",
     "output_type": "stream",
     "text": [
      "<class 'pandas.core.frame.DataFrame'>\n",
      "RangeIndex: 40 entries, 0 to 39\n",
      "Data columns (total 2 columns):\n",
      " #   Column  Non-Null Count  Dtype\n",
      "---  ------  --------------  -----\n",
      " 0   area    40 non-null     int64\n",
      " 1   rent    40 non-null     int64\n",
      "dtypes: int64(2)\n",
      "memory usage: 768.0 bytes\n"
     ]
    }
   ],
   "source": [
    " df.info()"
   ]
  },
  {
   "cell_type": "code",
   "execution_count": 6,
   "id": "79e7b400",
   "metadata": {
    "execution": {
     "iopub.execute_input": "2023-05-10T09:04:57.297861Z",
     "iopub.status.busy": "2023-05-10T09:04:57.297444Z",
     "iopub.status.idle": "2023-05-10T09:04:57.304429Z",
     "shell.execute_reply": "2023-05-10T09:04:57.303302Z"
    },
    "papermill": {
     "duration": 0.024437,
     "end_time": "2023-05-10T09:04:57.307017",
     "exception": false,
     "start_time": "2023-05-10T09:04:57.282580",
     "status": "completed"
    },
    "tags": []
   },
   "outputs": [
    {
     "data": {
      "text/plain": [
       "(40, 2)"
      ]
     },
     "execution_count": 6,
     "metadata": {},
     "output_type": "execute_result"
    }
   ],
   "source": [
    "df.shape"
   ]
  },
  {
   "cell_type": "code",
   "execution_count": 7,
   "id": "a27e8b31",
   "metadata": {
    "execution": {
     "iopub.execute_input": "2023-05-10T09:04:57.336279Z",
     "iopub.status.busy": "2023-05-10T09:04:57.335858Z",
     "iopub.status.idle": "2023-05-10T09:04:57.613391Z",
     "shell.execute_reply": "2023-05-10T09:04:57.612284Z"
    },
    "papermill": {
     "duration": 0.295785,
     "end_time": "2023-05-10T09:04:57.616669",
     "exception": false,
     "start_time": "2023-05-10T09:04:57.320884",
     "status": "completed"
    },
    "tags": []
   },
   "outputs": [
    {
     "data": {
      "text/plain": [
       "<matplotlib.collections.PathCollection at 0x7e9a386af0a0>"
      ]
     },
     "execution_count": 7,
     "metadata": {},
     "output_type": "execute_result"
    },
    {
     "data": {
      "image/png": "[encoded data removed]",
      "text/plain": [
       "<Figure size 640x480 with 1 Axes>"
      ]
     },
     "metadata": {},
     "output_type": "display_data"
    }
   ],
   "source": [
    "plt.scatter(df[\"area\"],df[\"rent\"])"
   ]
  },
  {
   "cell_type": "code",
   "execution_count": 8,
   "id": "9c33e8fb",
   "metadata": {
    "execution": {
     "iopub.execute_input": "2023-05-10T09:04:57.649229Z",
     "iopub.status.busy": "2023-05-10T09:04:57.648581Z",
     "iopub.status.idle": "2023-05-10T09:04:57.881051Z",
     "shell.execute_reply": "2023-05-10T09:04:57.879952Z"
    },
    "papermill": {
     "duration": 0.251841,
     "end_time": "2023-05-10T09:04:57.883711",
     "exception": false,
     "start_time": "2023-05-10T09:04:57.631870",
     "status": "completed"
    },
    "tags": []
   },
   "outputs": [
    {
     "data": {
      "text/plain": [
       "<matplotlib.collections.PathCollection at 0x7e9a38ab46d0>"
      ]
     },
     "execution_count": 8,
     "metadata": {},
     "output_type": "execute_result"
    },
    {
     "data": {
      "image/png": "[encoded data removed]",
      "text/plain": [
       "<Figure size 640x480 with 1 Axes>"
      ]
     },
     "metadata": {},
     "output_type": "display_data"
    }
   ],
   "source": [
    "plt.scatter(df[\"area\"],df[\"rent\"],color=\"red\",marker=\"+\")"
   ]
  },
  {
   "cell_type": "code",
   "execution_count": 9,
   "id": "f7303b7d",
   "metadata": {
    "execution": {
     "iopub.execute_input": "2023-05-10T09:04:57.914858Z",
     "iopub.status.busy": "2023-05-10T09:04:57.914398Z",
     "iopub.status.idle": "2023-05-10T09:04:58.191145Z",
     "shell.execute_reply": "2023-05-10T09:04:58.190006Z"
    },
    "papermill": {
     "duration": 0.29515,
     "end_time": "2023-05-10T09:04:58.193663",
     "exception": false,
     "start_time": "2023-05-10T09:04:57.898513",
     "status": "completed"
    },
    "scrolled": true,
    "tags": []
   },
   "outputs": [
    {
     "data": {
      "text/plain": [
       "Text(0.5, 1.0, 'Rent Plot')"
      ]
     },
     "execution_count": 9,
     "metadata": {},
     "output_type": "execute_result"
    },
    {
     "data": {
      "image/png": "[encoded data removed]",
      "text/plain": [
       "<Figure size 640x480 with 1 Axes>"
      ]
     },
     "metadata": {},
     "output_type": "display_data"
    }
   ],
   "source": [
    "plt.scatter(df[\"area\"],df[\"rent\"],color=\"red\",marker=\"+\")\n",
    "plt.xlabel(\"Area in Square Feet\",color=\"red\")\n",
    "plt.ylabel(\"Rent in BDT\",color=\"red\")\n",
    "plt.title(\"Rent Plot\", color=\"green\")"
   ]
  },
  {
   "cell_type": "code",
   "execution_count": 10,
   "id": "d86d7d01",
   "metadata": {
    "execution": {
     "iopub.execute_input": "2023-05-10T09:04:58.226443Z",
     "iopub.status.busy": "2023-05-10T09:04:58.226029Z",
     "iopub.status.idle": "2023-05-10T09:04:58.233439Z",
     "shell.execute_reply": "2023-05-10T09:04:58.232391Z"
    },
    "papermill": {
     "duration": 0.026443,
     "end_time": "2023-05-10T09:04:58.235939",
     "exception": false,
     "start_time": "2023-05-10T09:04:58.209496",
     "status": "completed"
    },
    "tags": []
   },
   "outputs": [
    {
     "data": {
      "text/plain": [
       "2265.5"
      ]
     },
     "execution_count": 10,
     "metadata": {},
     "output_type": "execute_result"
    }
   ],
   "source": [
    "df.area.mean()"
   ]
  },
  {
   "cell_type": "code",
   "execution_count": 11,
   "id": "c7af2403",
   "metadata": {
    "execution": {
     "iopub.execute_input": "2023-05-10T09:04:58.268383Z",
     "iopub.status.busy": "2023-05-10T09:04:58.268006Z",
     "iopub.status.idle": "2023-05-10T09:04:58.275063Z",
     "shell.execute_reply": "2023-05-10T09:04:58.274020Z"
    },
    "papermill": {
     "duration": 0.026124,
     "end_time": "2023-05-10T09:04:58.277426",
     "exception": false,
     "start_time": "2023-05-10T09:04:58.251302",
     "status": "completed"
    },
    "tags": []
   },
   "outputs": [
    {
     "data": {
      "text/plain": [
       "36704.25"
      ]
     },
     "execution_count": 11,
     "metadata": {},
     "output_type": "execute_result"
    }
   ],
   "source": [
    "df.rent.mean()"
   ]
  },
  {
   "cell_type": "markdown",
   "id": "fc674b4c",
   "metadata": {
    "papermill": {
     "duration": 0.015617,
     "end_time": "2023-05-10T09:04:58.309181",
     "exception": false,
     "start_time": "2023-05-10T09:04:58.293564",
     "status": "completed"
    },
    "tags": []
   },
   "source": [
    "## Seperate dependent and independent variable"
   ]
  },
  {
   "cell_type": "code",
   "execution_count": 12,
   "id": "42b4e7e3",
   "metadata": {
    "execution": {
     "iopub.execute_input": "2023-05-10T09:04:58.341922Z",
     "iopub.status.busy": "2023-05-10T09:04:58.341462Z",
     "iopub.status.idle": "2023-05-10T09:04:58.351515Z",
     "shell.execute_reply": "2023-05-10T09:04:58.350431Z"
    },
    "papermill": {
     "duration": 0.029337,
     "end_time": "2023-05-10T09:04:58.353966",
     "exception": false,
     "start_time": "2023-05-10T09:04:58.324629",
     "status": "completed"
    },
    "tags": []
   },
   "outputs": [
    {
     "data": {
      "text/html": [
       "<div>\n",
       "<style scoped>\n",
       "    .dataframe tbody tr th:only-of-type {\n",
       "        vertical-align: middle;\n",
       "    }\n",
       "\n",
       "    .dataframe tbody tr th {\n",
       "        vertical-align: top;\n",
       "    }\n",
       "\n",
       "    .dataframe thead th {\n",
       "        text-align: right;\n",
       "    }\n",
       "</style>\n",
       "<table border=\"1\" class=\"dataframe\">\n",
       "  <thead>\n",
       "    <tr style=\"text-align: right;\">\n",
       "      <th></th>\n",
       "      <th>area</th>\n",
       "      <th>rent</th>\n",
       "    </tr>\n",
       "  </thead>\n",
       "  <tbody>\n",
       "    <tr>\n",
       "      <th>0</th>\n",
       "      <td>2000</td>\n",
       "      <td>31500</td>\n",
       "    </tr>\n",
       "    <tr>\n",
       "      <th>1</th>\n",
       "      <td>2100</td>\n",
       "      <td>35000</td>\n",
       "    </tr>\n",
       "    <tr>\n",
       "      <th>2</th>\n",
       "      <td>2500</td>\n",
       "      <td>41050</td>\n",
       "    </tr>\n",
       "    <tr>\n",
       "      <th>3</th>\n",
       "      <td>2250</td>\n",
       "      <td>36100</td>\n",
       "    </tr>\n",
       "    <tr>\n",
       "      <th>4</th>\n",
       "      <td>3000</td>\n",
       "      <td>52100</td>\n",
       "    </tr>\n",
       "  </tbody>\n",
       "</table>\n",
       "</div>"
      ],
      "text/plain": [
       "   area   rent\n",
       "0  2000  31500\n",
       "1  2100  35000\n",
       "2  2500  41050\n",
       "3  2250  36100\n",
       "4  3000  52100"
      ]
     },
     "execution_count": 12,
     "metadata": {},
     "output_type": "execute_result"
    }
   ],
   "source": [
    "df.head()"
   ]
  },
  {
   "cell_type": "code",
   "execution_count": 13,
   "id": "16ab6cfc",
   "metadata": {
    "execution": {
     "iopub.execute_input": "2023-05-10T09:04:58.387358Z",
     "iopub.status.busy": "2023-05-10T09:04:58.386933Z",
     "iopub.status.idle": "2023-05-10T09:04:58.394041Z",
     "shell.execute_reply": "2023-05-10T09:04:58.393150Z"
    },
    "papermill": {
     "duration": 0.026476,
     "end_time": "2023-05-10T09:04:58.396265",
     "exception": false,
     "start_time": "2023-05-10T09:04:58.369789",
     "status": "completed"
    },
    "tags": []
   },
   "outputs": [],
   "source": [
    "x=df[[\"area\"]]"
   ]
  },
  {
   "cell_type": "code",
   "execution_count": 14,
   "id": "5658b12c",
   "metadata": {
    "execution": {
     "iopub.execute_input": "2023-05-10T09:04:58.429835Z",
     "iopub.status.busy": "2023-05-10T09:04:58.429376Z",
     "iopub.status.idle": "2023-05-10T09:04:58.435840Z",
     "shell.execute_reply": "2023-05-10T09:04:58.434549Z"
    },
    "papermill": {
     "duration": 0.025864,
     "end_time": "2023-05-10T09:04:58.438184",
     "exception": false,
     "start_time": "2023-05-10T09:04:58.412320",
     "status": "completed"
    },
    "tags": []
   },
   "outputs": [],
   "source": [
    "y=df[[\"rent\"]]"
   ]
  },
  {
   "cell_type": "code",
   "execution_count": 15,
   "id": "519b9280",
   "metadata": {
    "execution": {
     "iopub.execute_input": "2023-05-10T09:04:58.472022Z",
     "iopub.status.busy": "2023-05-10T09:04:58.471567Z",
     "iopub.status.idle": "2023-05-10T09:04:58.480673Z",
     "shell.execute_reply": "2023-05-10T09:04:58.479856Z"
    },
    "papermill": {
     "duration": 0.028814,
     "end_time": "2023-05-10T09:04:58.482906",
     "exception": false,
     "start_time": "2023-05-10T09:04:58.454092",
     "status": "completed"
    },
    "tags": []
   },
   "outputs": [
    {
     "data": {
      "text/html": [
       "<div>\n",
       "<style scoped>\n",
       "    .dataframe tbody tr th:only-of-type {\n",
       "        vertical-align: middle;\n",
       "    }\n",
       "\n",
       "    .dataframe tbody tr th {\n",
       "        vertical-align: top;\n",
       "    }\n",
       "\n",
       "    .dataframe thead th {\n",
       "        text-align: right;\n",
       "    }\n",
       "</style>\n",
       "<table border=\"1\" class=\"dataframe\">\n",
       "  <thead>\n",
       "    <tr style=\"text-align: right;\">\n",
       "      <th></th>\n",
       "      <th>area</th>\n",
       "    </tr>\n",
       "  </thead>\n",
       "  <tbody>\n",
       "    <tr>\n",
       "      <th>0</th>\n",
       "      <td>2000</td>\n",
       "    </tr>\n",
       "    <tr>\n",
       "      <th>1</th>\n",
       "      <td>2100</td>\n",
       "    </tr>\n",
       "    <tr>\n",
       "      <th>2</th>\n",
       "      <td>2500</td>\n",
       "    </tr>\n",
       "    <tr>\n",
       "      <th>3</th>\n",
       "      <td>2250</td>\n",
       "    </tr>\n",
       "    <tr>\n",
       "      <th>4</th>\n",
       "      <td>3000</td>\n",
       "    </tr>\n",
       "  </tbody>\n",
       "</table>\n",
       "</div>"
      ],
      "text/plain": [
       "   area\n",
       "0  2000\n",
       "1  2100\n",
       "2  2500\n",
       "3  2250\n",
       "4  3000"
      ]
     },
     "execution_count": 15,
     "metadata": {},
     "output_type": "execute_result"
    }
   ],
   "source": [
    "x.head()"
   ]
  },
  {
   "cell_type": "code",
   "execution_count": 16,
   "id": "7b32bfe3",
   "metadata": {
    "execution": {
     "iopub.execute_input": "2023-05-10T09:04:58.516742Z",
     "iopub.status.busy": "2023-05-10T09:04:58.516342Z",
     "iopub.status.idle": "2023-05-10T09:04:58.526403Z",
     "shell.execute_reply": "2023-05-10T09:04:58.525269Z"
    },
    "papermill": {
     "duration": 0.029846,
     "end_time": "2023-05-10T09:04:58.528747",
     "exception": false,
     "start_time": "2023-05-10T09:04:58.498901",
     "status": "completed"
    },
    "tags": []
   },
   "outputs": [
    {
     "data": {
      "text/html": [
       "<div>\n",
       "<style scoped>\n",
       "    .dataframe tbody tr th:only-of-type {\n",
       "        vertical-align: middle;\n",
       "    }\n",
       "\n",
       "    .dataframe tbody tr th {\n",
       "        vertical-align: top;\n",
       "    }\n",
       "\n",
       "    .dataframe thead th {\n",
       "        text-align: right;\n",
       "    }\n",
       "</style>\n",
       "<table border=\"1\" class=\"dataframe\">\n",
       "  <thead>\n",
       "    <tr style=\"text-align: right;\">\n",
       "      <th></th>\n",
       "      <th>rent</th>\n",
       "    </tr>\n",
       "  </thead>\n",
       "  <tbody>\n",
       "    <tr>\n",
       "      <th>0</th>\n",
       "      <td>31500</td>\n",
       "    </tr>\n",
       "    <tr>\n",
       "      <th>1</th>\n",
       "      <td>35000</td>\n",
       "    </tr>\n",
       "    <tr>\n",
       "      <th>2</th>\n",
       "      <td>41050</td>\n",
       "    </tr>\n",
       "    <tr>\n",
       "      <th>3</th>\n",
       "      <td>36100</td>\n",
       "    </tr>\n",
       "    <tr>\n",
       "      <th>4</th>\n",
       "      <td>52100</td>\n",
       "    </tr>\n",
       "  </tbody>\n",
       "</table>\n",
       "</div>"
      ],
      "text/plain": [
       "    rent\n",
       "0  31500\n",
       "1  35000\n",
       "2  41050\n",
       "3  36100\n",
       "4  52100"
      ]
     },
     "execution_count": 16,
     "metadata": {},
     "output_type": "execute_result"
    }
   ],
   "source": [
    "y.head()"
   ]
  },
  {
   "cell_type": "markdown",
   "id": "39881048",
   "metadata": {
    "papermill": {
     "duration": 0.015727,
     "end_time": "2023-05-10T09:04:58.560986",
     "exception": false,
     "start_time": "2023-05-10T09:04:58.545259",
     "status": "completed"
    },
    "tags": []
   },
   "source": [
    "## split the database"
   ]
  },
  {
   "cell_type": "code",
   "execution_count": 17,
   "id": "83c81cc6",
   "metadata": {
    "execution": {
     "iopub.execute_input": "2023-05-10T09:04:58.596534Z",
     "iopub.status.busy": "2023-05-10T09:04:58.596130Z",
     "iopub.status.idle": "2023-05-10T09:04:58.886394Z",
     "shell.execute_reply": "2023-05-10T09:04:58.885196Z"
    },
    "papermill": {
     "duration": 0.311288,
     "end_time": "2023-05-10T09:04:58.889044",
     "exception": false,
     "start_time": "2023-05-10T09:04:58.577756",
     "status": "completed"
    },
    "tags": []
   },
   "outputs": [],
   "source": [
    "from sklearn.model_selection import train_test_split"
   ]
  },
  {
   "cell_type": "code",
   "execution_count": 18,
   "id": "e7509534",
   "metadata": {
    "execution": {
     "iopub.execute_input": "2023-05-10T09:04:58.924506Z",
     "iopub.status.busy": "2023-05-10T09:04:58.924083Z",
     "iopub.status.idle": "2023-05-10T09:04:58.931387Z",
     "shell.execute_reply": "2023-05-10T09:04:58.930226Z"
    },
    "papermill": {
     "duration": 0.02839,
     "end_time": "2023-05-10T09:04:58.933650",
     "exception": false,
     "start_time": "2023-05-10T09:04:58.905260",
     "status": "completed"
    },
    "tags": []
   },
   "outputs": [],
   "source": [
    "#train=70%\n",
    "#test=30%\n",
    "\n",
    "xtrain,xtest,ytrain,ytest=train_test_split(x,y,test_size=.30) #train_size=.70"
   ]
  },
  {
   "cell_type": "code",
   "execution_count": 19,
   "id": "038d727e",
   "metadata": {
    "execution": {
     "iopub.execute_input": "2023-05-10T09:04:58.968443Z",
     "iopub.status.busy": "2023-05-10T09:04:58.967331Z",
     "iopub.status.idle": "2023-05-10T09:04:58.976679Z",
     "shell.execute_reply": "2023-05-10T09:04:58.975540Z"
    },
    "papermill": {
     "duration": 0.029936,
     "end_time": "2023-05-10T09:04:58.979719",
     "exception": false,
     "start_time": "2023-05-10T09:04:58.949783",
     "status": "completed"
    },
    "tags": []
   },
   "outputs": [
    {
     "data": {
      "text/html": [
       "<div>\n",
       "<style scoped>\n",
       "    .dataframe tbody tr th:only-of-type {\n",
       "        vertical-align: middle;\n",
       "    }\n",
       "\n",
       "    .dataframe tbody tr th {\n",
       "        vertical-align: top;\n",
       "    }\n",
       "\n",
       "    .dataframe thead th {\n",
       "        text-align: right;\n",
       "    }\n",
       "</style>\n",
       "<table border=\"1\" class=\"dataframe\">\n",
       "  <thead>\n",
       "    <tr style=\"text-align: right;\">\n",
       "      <th></th>\n",
       "      <th>area</th>\n",
       "    </tr>\n",
       "  </thead>\n",
       "  <tbody>\n",
       "    <tr>\n",
       "      <th>19</th>\n",
       "      <td>2700</td>\n",
       "    </tr>\n",
       "    <tr>\n",
       "      <th>25</th>\n",
       "      <td>3100</td>\n",
       "    </tr>\n",
       "    <tr>\n",
       "      <th>3</th>\n",
       "      <td>2250</td>\n",
       "    </tr>\n",
       "    <tr>\n",
       "      <th>13</th>\n",
       "      <td>2510</td>\n",
       "    </tr>\n",
       "    <tr>\n",
       "      <th>35</th>\n",
       "      <td>1900</td>\n",
       "    </tr>\n",
       "  </tbody>\n",
       "</table>\n",
       "</div>"
      ],
      "text/plain": [
       "    area\n",
       "19  2700\n",
       "25  3100\n",
       "3   2250\n",
       "13  2510\n",
       "35  1900"
      ]
     },
     "execution_count": 19,
     "metadata": {},
     "output_type": "execute_result"
    }
   ],
   "source": [
    "xtrain.head()"
   ]
  },
  {
   "cell_type": "code",
   "execution_count": 20,
   "id": "4187e2da",
   "metadata": {
    "execution": {
     "iopub.execute_input": "2023-05-10T09:04:59.015551Z",
     "iopub.status.busy": "2023-05-10T09:04:59.014047Z",
     "iopub.status.idle": "2023-05-10T09:04:59.021868Z",
     "shell.execute_reply": "2023-05-10T09:04:59.020879Z"
    },
    "papermill": {
     "duration": 0.028098,
     "end_time": "2023-05-10T09:04:59.024221",
     "exception": false,
     "start_time": "2023-05-10T09:04:58.996123",
     "status": "completed"
    },
    "tags": []
   },
   "outputs": [
    {
     "data": {
      "text/plain": [
       "(12, 1)"
      ]
     },
     "execution_count": 20,
     "metadata": {},
     "output_type": "execute_result"
    }
   ],
   "source": [
    "xtest.shape"
   ]
  },
  {
   "cell_type": "code",
   "execution_count": 21,
   "id": "cf2f10bf",
   "metadata": {
    "execution": {
     "iopub.execute_input": "2023-05-10T09:04:59.060565Z",
     "iopub.status.busy": "2023-05-10T09:04:59.059713Z",
     "iopub.status.idle": "2023-05-10T09:04:59.066906Z",
     "shell.execute_reply": "2023-05-10T09:04:59.065827Z"
    },
    "papermill": {
     "duration": 0.028235,
     "end_time": "2023-05-10T09:04:59.069281",
     "exception": false,
     "start_time": "2023-05-10T09:04:59.041046",
     "status": "completed"
    },
    "tags": []
   },
   "outputs": [
    {
     "data": {
      "text/plain": [
       "(28, 1)"
      ]
     },
     "execution_count": 21,
     "metadata": {},
     "output_type": "execute_result"
    }
   ],
   "source": [
    "xtrain.shape"
   ]
  },
  {
   "cell_type": "markdown",
   "id": "40f1fce1",
   "metadata": {
    "papermill": {
     "duration": 0.016897,
     "end_time": "2023-05-10T09:04:59.102782",
     "exception": false,
     "start_time": "2023-05-10T09:04:59.085885",
     "status": "completed"
    },
    "tags": []
   },
   "source": [
    "## Linear regression"
   ]
  },
  {
   "cell_type": "code",
   "execution_count": 22,
   "id": "5dbcbaf0",
   "metadata": {
    "execution": {
     "iopub.execute_input": "2023-05-10T09:04:59.138573Z",
     "iopub.status.busy": "2023-05-10T09:04:59.137770Z",
     "iopub.status.idle": "2023-05-10T09:04:59.256634Z",
     "shell.execute_reply": "2023-05-10T09:04:59.255230Z"
    },
    "papermill": {
     "duration": 0.139944,
     "end_time": "2023-05-10T09:04:59.259658",
     "exception": false,
     "start_time": "2023-05-10T09:04:59.119714",
     "status": "completed"
    },
    "tags": []
   },
   "outputs": [],
   "source": [
    "from sklearn.linear_model import LinearRegression as lreg"
   ]
  },
  {
   "cell_type": "code",
   "execution_count": 23,
   "id": "b1f3feb5",
   "metadata": {
    "execution": {
     "iopub.execute_input": "2023-05-10T09:04:59.295144Z",
     "iopub.status.busy": "2023-05-10T09:04:59.294330Z",
     "iopub.status.idle": "2023-05-10T09:04:59.300063Z",
     "shell.execute_reply": "2023-05-10T09:04:59.299234Z"
    },
    "papermill": {
     "duration": 0.026222,
     "end_time": "2023-05-10T09:04:59.302540",
     "exception": false,
     "start_time": "2023-05-10T09:04:59.276318",
     "status": "completed"
    },
    "tags": []
   },
   "outputs": [],
   "source": [
    "reg= lreg()"
   ]
  },
  {
   "cell_type": "code",
   "execution_count": 24,
   "id": "05239a33",
   "metadata": {
    "execution": {
     "iopub.execute_input": "2023-05-10T09:04:59.338937Z",
     "iopub.status.busy": "2023-05-10T09:04:59.338483Z",
     "iopub.status.idle": "2023-05-10T09:04:59.367421Z",
     "shell.execute_reply": "2023-05-10T09:04:59.366511Z"
    },
    "papermill": {
     "duration": 0.049724,
     "end_time": "2023-05-10T09:04:59.369627",
     "exception": false,
     "start_time": "2023-05-10T09:04:59.319903",
     "status": "completed"
    },
    "tags": []
   },
   "outputs": [
    {
     "data": {
      "text/html": [
       "<style>#sk-container-id-1 {color: black;background-color: white;}#sk-container-id-1 pre{padding: 0;}#sk-container-id-1 div.sk-toggleable {background-color: white;}#sk-container-id-1 label.sk-toggleable__label {cursor: pointer;display: block;width: 100%;margin-bottom: 0;padding: 0.3em;box-sizing: border-box;text-align: center;}#sk-container-id-1 label.sk-toggleable__label-arrow:before {content: \"▸\";float: left;margin-right: 0.25em;color: #696969;}#sk-container-id-1 label.sk-toggleable__label-arrow:hover:before {color: black;}#sk-container-id-1 div.sk-estimator:hover label.sk-toggleable__label-arrow:before {color: black;}#sk-container-id-1 div.sk-toggleable__content {max-height: 0;max-width: 0;overflow: hidden;text-align: left;background-color: #f0f8ff;}#sk-container-id-1 div.sk-toggleable__content pre {margin: 0.2em;color: black;border-radius: 0.25em;background-color: #f0f8ff;}#sk-container-id-1 input.sk-toggleable__control:checked~div.sk-toggleable__content {max-height: 200px;max-width: 100%;overflow: auto;}#sk-container-id-1 input.sk-toggleable__control:checked~label.sk-toggleable__label-arrow:before {content: \"▾\";}#sk-container-id-1 div.sk-estimator input.sk-toggleable__control:checked~label.sk-toggleable__label {background-color: #d4ebff;}#sk-container-id-1 div.sk-label input.sk-toggleable__control:checked~label.sk-toggleable__label {background-color: #d4ebff;}#sk-container-id-1 input.sk-hidden--visually {border: 0;clip: rect(1px 1px 1px 1px);clip: rect(1px, 1px, 1px, 1px);height: 1px;margin: -1px;overflow: hidden;padding: 0;position: absolute;width: 1px;}#sk-container-id-1 div.sk-estimator {font-family: monospace;background-color: #f0f8ff;border: 1px dotted black;border-radius: 0.25em;box-sizing: border-box;margin-bottom: 0.5em;}#sk-container-id-1 div.sk-estimator:hover {background-color: #d4ebff;}#sk-container-id-1 div.sk-parallel-item::after {content: \"\";width: 100%;border-bottom: 1px solid gray;flex-grow: 1;}#sk-container-id-1 div.sk-label:hover label.sk-toggleable__label {background-color: #d4ebff;}#sk-container-id-1 div.sk-serial::before {content: \"\";position: absolute;border-left: 1px solid gray;box-sizing: border-box;top: 0;bottom: 0;left: 50%;z-index: 0;}#sk-container-id-1 div.sk-serial {display: flex;flex-direction: column;align-items: center;background-color: white;padding-right: 0.2em;padding-left: 0.2em;position: relative;}#sk-container-id-1 div.sk-item {position: relative;z-index: 1;}#sk-container-id-1 div.sk-parallel {display: flex;align-items: stretch;justify-content: center;background-color: white;position: relative;}#sk-container-id-1 div.sk-item::before, #sk-container-id-1 div.sk-parallel-item::before {content: \"\";position: absolute;border-left: 1px solid gray;box-sizing: border-box;top: 0;bottom: 0;left: 50%;z-index: -1;}#sk-container-id-1 div.sk-parallel-item {display: flex;flex-direction: column;z-index: 1;position: relative;background-color: white;}#sk-container-id-1 div.sk-parallel-item:first-child::after {align-self: flex-end;width: 50%;}#sk-container-id-1 div.sk-parallel-item:last-child::after {align-self: flex-start;width: 50%;}#sk-container-id-1 div.sk-parallel-item:only-child::after {width: 0;}#sk-container-id-1 div.sk-dashed-wrapped {border: 1px dashed gray;margin: 0 0.4em 0.5em 0.4em;box-sizing: border-box;padding-bottom: 0.4em;background-color: white;}#sk-container-id-1 div.sk-label label {font-family: monospace;font-weight: bold;display: inline-block;line-height: 1.2em;}#sk-container-id-1 div.sk-label-container {text-align: center;}#sk-container-id-1 div.sk-container {/* jupyter's `normalize.less` sets `[hidden] { display: none; }` but bootstrap.min.css set `[hidden] { display: none !important; }` so we also need the `!important` here to be able to override the default hidden behavior on the sphinx rendered scikit-learn.org. See: https://github.com/scikit-learn/scikit-learn/issues/21755 */display: inline-block !important;position: relative;}#sk-container-id-1 div.sk-text-repr-fallback {display: none;}</style><div id=\"sk-container-id-1\" class=\"sk-top-container\"><div class=\"sk-text-repr-fallback\"><pre>LinearRegression()</pre><b>In a Jupyter environment, please rerun this cell to show the HTML representation or trust the notebook. <br />On GitHub, the HTML representation is unable to render, please try loading this page with nbviewer.org.</b></div><div class=\"sk-container\" hidden><div class=\"sk-item\"><div class=\"sk-estimator sk-toggleable\"><input class=\"sk-toggleable__control sk-hidden--visually\" id=\"sk-estimator-id-1\" type=\"checkbox\" checked><label for=\"sk-estimator-id-1\" class=\"sk-toggleable__label sk-toggleable__label-arrow\">LinearRegression</label><div class=\"sk-toggleable__content\"><pre>LinearRegression()</pre></div></div></div></div></div>"
      ],
      "text/plain": [
       "LinearRegression()"
      ]
     },
     "execution_count": 24,
     "metadata": {},
     "output_type": "execute_result"
    }
   ],
   "source": [
    "reg.fit(xtrain,ytrain) #training the data"
   ]
  },
  {
   "cell_type": "code",
   "execution_count": 25,
   "id": "6fea087a",
   "metadata": {
    "execution": {
     "iopub.execute_input": "2023-05-10T09:04:59.406026Z",
     "iopub.status.busy": "2023-05-10T09:04:59.405353Z",
     "iopub.status.idle": "2023-05-10T09:04:59.416156Z",
     "shell.execute_reply": "2023-05-10T09:04:59.414977Z"
    },
    "papermill": {
     "duration": 0.031832,
     "end_time": "2023-05-10T09:04:59.418600",
     "exception": false,
     "start_time": "2023-05-10T09:04:59.386768",
     "status": "completed"
    },
    "tags": []
   },
   "outputs": [
    {
     "name": "stderr",
     "output_type": "stream",
     "text": [
      "/opt/conda/lib/python3.10/site-packages/sklearn/base.py:439: UserWarning: X does not have valid feature names, but LinearRegression was fitted with feature names\n",
      "  warnings.warn(\n"
     ]
    },
    {
     "data": {
      "text/plain": [
       "array([[31477.9420101]])"
      ]
     },
     "execution_count": 25,
     "metadata": {},
     "output_type": "execute_result"
    }
   ],
   "source": [
    "reg.predict([[2000]])"
   ]
  },
  {
   "cell_type": "code",
   "execution_count": 26,
   "id": "651d875e",
   "metadata": {
    "execution": {
     "iopub.execute_input": "2023-05-10T09:04:59.455020Z",
     "iopub.status.busy": "2023-05-10T09:04:59.454614Z",
     "iopub.status.idle": "2023-05-10T09:04:59.459295Z",
     "shell.execute_reply": "2023-05-10T09:04:59.458215Z"
    },
    "papermill": {
     "duration": 0.0258,
     "end_time": "2023-05-10T09:04:59.461552",
     "exception": false,
     "start_time": "2023-05-10T09:04:59.435752",
     "status": "completed"
    },
    "tags": []
   },
   "outputs": [],
   "source": [
    "import warnings\n",
    "warnings.filterwarnings(\"ignore\")"
   ]
  },
  {
   "cell_type": "code",
   "execution_count": 27,
   "id": "69495650",
   "metadata": {
    "execution": {
     "iopub.execute_input": "2023-05-10T09:04:59.498037Z",
     "iopub.status.busy": "2023-05-10T09:04:59.497395Z",
     "iopub.status.idle": "2023-05-10T09:04:59.504306Z",
     "shell.execute_reply": "2023-05-10T09:04:59.503301Z"
    },
    "papermill": {
     "duration": 0.028372,
     "end_time": "2023-05-10T09:04:59.507375",
     "exception": false,
     "start_time": "2023-05-10T09:04:59.479003",
     "status": "completed"
    },
    "tags": []
   },
   "outputs": [
    {
     "data": {
      "text/plain": [
       "array([[31477.9420101]])"
      ]
     },
     "execution_count": 27,
     "metadata": {},
     "output_type": "execute_result"
    }
   ],
   "source": [
    "reg.predict([[2000]])"
   ]
  },
  {
   "cell_type": "code",
   "execution_count": 28,
   "id": "fef56668",
   "metadata": {
    "execution": {
     "iopub.execute_input": "2023-05-10T09:04:59.544537Z",
     "iopub.status.busy": "2023-05-10T09:04:59.544130Z",
     "iopub.status.idle": "2023-05-10T09:04:59.554173Z",
     "shell.execute_reply": "2023-05-10T09:04:59.553027Z"
    },
    "papermill": {
     "duration": 0.031624,
     "end_time": "2023-05-10T09:04:59.556527",
     "exception": false,
     "start_time": "2023-05-10T09:04:59.524903",
     "status": "completed"
    },
    "tags": []
   },
   "outputs": [
    {
     "data": {
      "text/html": [
       "<div>\n",
       "<style scoped>\n",
       "    .dataframe tbody tr th:only-of-type {\n",
       "        vertical-align: middle;\n",
       "    }\n",
       "\n",
       "    .dataframe tbody tr th {\n",
       "        vertical-align: top;\n",
       "    }\n",
       "\n",
       "    .dataframe thead th {\n",
       "        text-align: right;\n",
       "    }\n",
       "</style>\n",
       "<table border=\"1\" class=\"dataframe\">\n",
       "  <thead>\n",
       "    <tr style=\"text-align: right;\">\n",
       "      <th></th>\n",
       "      <th>rent</th>\n",
       "    </tr>\n",
       "  </thead>\n",
       "  <tbody>\n",
       "    <tr>\n",
       "      <th>0</th>\n",
       "      <td>31500</td>\n",
       "    </tr>\n",
       "    <tr>\n",
       "      <th>7</th>\n",
       "      <td>24500</td>\n",
       "    </tr>\n",
       "    <tr>\n",
       "      <th>31</th>\n",
       "      <td>35010</td>\n",
       "    </tr>\n",
       "    <tr>\n",
       "      <th>11</th>\n",
       "      <td>32000</td>\n",
       "    </tr>\n",
       "    <tr>\n",
       "      <th>1</th>\n",
       "      <td>35000</td>\n",
       "    </tr>\n",
       "  </tbody>\n",
       "</table>\n",
       "</div>"
      ],
      "text/plain": [
       "     rent\n",
       "0   31500\n",
       "7   24500\n",
       "31  35010\n",
       "11  32000\n",
       "1   35000"
      ]
     },
     "execution_count": 28,
     "metadata": {},
     "output_type": "execute_result"
    }
   ],
   "source": [
    "ytest.head()"
   ]
  },
  {
   "cell_type": "code",
   "execution_count": 29,
   "id": "695b2914",
   "metadata": {
    "execution": {
     "iopub.execute_input": "2023-05-10T09:04:59.594536Z",
     "iopub.status.busy": "2023-05-10T09:04:59.593886Z",
     "iopub.status.idle": "2023-05-10T09:04:59.602824Z",
     "shell.execute_reply": "2023-05-10T09:04:59.601788Z"
    },
    "papermill": {
     "duration": 0.030834,
     "end_time": "2023-05-10T09:04:59.605023",
     "exception": false,
     "start_time": "2023-05-10T09:04:59.574189",
     "status": "completed"
    },
    "tags": []
   },
   "outputs": [
    {
     "data": {
      "text/plain": [
       "array([[31477.9420101 ],\n",
       "       [28524.08169237],\n",
       "       [33447.18222192],\n",
       "       [33447.18222192],\n",
       "       [33447.18222192],\n",
       "       [22616.36105691],\n",
       "       [35416.42243374],\n",
       "       [27539.46158646],\n",
       "       [46247.24359876],\n",
       "       [36401.04253966],\n",
       "       [51170.34412832],\n",
       "       [61016.54518742]])"
      ]
     },
     "execution_count": 29,
     "metadata": {},
     "output_type": "execute_result"
    }
   ],
   "source": [
    "ypred=reg.predict(xtest)\n",
    "ypred"
   ]
  },
  {
   "cell_type": "code",
   "execution_count": 30,
   "id": "11c94690",
   "metadata": {
    "execution": {
     "iopub.execute_input": "2023-05-10T09:04:59.642350Z",
     "iopub.status.busy": "2023-05-10T09:04:59.641704Z",
     "iopub.status.idle": "2023-05-10T09:04:59.646519Z",
     "shell.execute_reply": "2023-05-10T09:04:59.645703Z"
    },
    "papermill": {
     "duration": 0.02599,
     "end_time": "2023-05-10T09:04:59.648655",
     "exception": false,
     "start_time": "2023-05-10T09:04:59.622665",
     "status": "completed"
    },
    "tags": []
   },
   "outputs": [],
   "source": [
    "from sklearn.metrics import mean_squared_error"
   ]
  },
  {
   "cell_type": "code",
   "execution_count": 31,
   "id": "632790be",
   "metadata": {
    "execution": {
     "iopub.execute_input": "2023-05-10T09:04:59.685957Z",
     "iopub.status.busy": "2023-05-10T09:04:59.685261Z",
     "iopub.status.idle": "2023-05-10T09:04:59.693982Z",
     "shell.execute_reply": "2023-05-10T09:04:59.692887Z"
    },
    "papermill": {
     "duration": 0.029887,
     "end_time": "2023-05-10T09:04:59.696149",
     "exception": false,
     "start_time": "2023-05-10T09:04:59.666262",
     "status": "completed"
    },
    "tags": []
   },
   "outputs": [
    {
     "data": {
      "text/plain": [
       "11182337.721305149"
      ]
     },
     "execution_count": 31,
     "metadata": {},
     "output_type": "execute_result"
    }
   ],
   "source": [
    "mse= mean_squared_error(ytest,ypred)\n",
    "mse"
   ]
  },
  {
   "cell_type": "code",
   "execution_count": 32,
   "id": "c502c662",
   "metadata": {
    "execution": {
     "iopub.execute_input": "2023-05-10T09:04:59.733694Z",
     "iopub.status.busy": "2023-05-10T09:04:59.733050Z",
     "iopub.status.idle": "2023-05-10T09:04:59.737609Z",
     "shell.execute_reply": "2023-05-10T09:04:59.736865Z"
    },
    "papermill": {
     "duration": 0.026046,
     "end_time": "2023-05-10T09:04:59.739792",
     "exception": false,
     "start_time": "2023-05-10T09:04:59.713746",
     "status": "completed"
    },
    "tags": []
   },
   "outputs": [],
   "source": [
    "from sklearn.metrics import mean_absolute_error"
   ]
  },
  {
   "cell_type": "code",
   "execution_count": 33,
   "id": "ee85affc",
   "metadata": {
    "execution": {
     "iopub.execute_input": "2023-05-10T09:04:59.777797Z",
     "iopub.status.busy": "2023-05-10T09:04:59.777144Z",
     "iopub.status.idle": "2023-05-10T09:04:59.786186Z",
     "shell.execute_reply": "2023-05-10T09:04:59.785138Z"
    },
    "papermill": {
     "duration": 0.030841,
     "end_time": "2023-05-10T09:04:59.788401",
     "exception": false,
     "start_time": "2023-05-10T09:04:59.757560",
     "status": "completed"
    },
    "tags": []
   },
   "outputs": [
    {
     "data": {
      "text/plain": [
       "2474.0093468838195"
      ]
     },
     "execution_count": 33,
     "metadata": {},
     "output_type": "execute_result"
    }
   ],
   "source": [
    "mae= mean_absolute_error(ytest,ypred)\n",
    "mae"
   ]
  },
  {
   "cell_type": "code",
   "execution_count": 34,
   "id": "49e3f183",
   "metadata": {
    "execution": {
     "iopub.execute_input": "2023-05-10T09:04:59.826933Z",
     "iopub.status.busy": "2023-05-10T09:04:59.826275Z",
     "iopub.status.idle": "2023-05-10T09:04:59.833683Z",
     "shell.execute_reply": "2023-05-10T09:04:59.832574Z"
    },
    "papermill": {
     "duration": 0.029384,
     "end_time": "2023-05-10T09:04:59.835895",
     "exception": false,
     "start_time": "2023-05-10T09:04:59.806511",
     "status": "completed"
    },
    "tags": []
   },
   "outputs": [
    {
     "data": {
      "text/plain": [
       "array([[19.69240212]])"
      ]
     },
     "execution_count": 34,
     "metadata": {},
     "output_type": "execute_result"
    }
   ],
   "source": [
    "m= reg.coef_\n",
    "m"
   ]
  },
  {
   "cell_type": "code",
   "execution_count": 35,
   "id": "5f0a8642",
   "metadata": {
    "execution": {
     "iopub.execute_input": "2023-05-10T09:04:59.875510Z",
     "iopub.status.busy": "2023-05-10T09:04:59.874851Z",
     "iopub.status.idle": "2023-05-10T09:04:59.881715Z",
     "shell.execute_reply": "2023-05-10T09:04:59.880715Z"
    },
    "papermill": {
     "duration": 0.029352,
     "end_time": "2023-05-10T09:04:59.883945",
     "exception": false,
     "start_time": "2023-05-10T09:04:59.854593",
     "status": "completed"
    },
    "tags": []
   },
   "outputs": [
    {
     "data": {
      "text/plain": [
       "array([-7906.86222633])"
      ]
     },
     "execution_count": 35,
     "metadata": {},
     "output_type": "execute_result"
    }
   ],
   "source": [
    "c=reg.intercept_\n",
    "c"
   ]
  },
  {
   "cell_type": "code",
   "execution_count": 36,
   "id": "bf148455",
   "metadata": {
    "execution": {
     "iopub.execute_input": "2023-05-10T09:04:59.923738Z",
     "iopub.status.busy": "2023-05-10T09:04:59.923073Z",
     "iopub.status.idle": "2023-05-10T09:04:59.930285Z",
     "shell.execute_reply": "2023-05-10T09:04:59.929162Z"
    },
    "papermill": {
     "duration": 0.030212,
     "end_time": "2023-05-10T09:04:59.932555",
     "exception": false,
     "start_time": "2023-05-10T09:04:59.902343",
     "status": "completed"
    },
    "tags": []
   },
   "outputs": [
    {
     "data": {
      "text/plain": [
       "array([[31477.9420101]])"
      ]
     },
     "execution_count": 36,
     "metadata": {},
     "output_type": "execute_result"
    }
   ],
   "source": [
    "#y=(m*x)+c\n",
    "result=m*2000+c\n",
    "result"
   ]
  },
  {
   "cell_type": "code",
   "execution_count": 37,
   "id": "2ec5a7f6",
   "metadata": {
    "execution": {
     "iopub.execute_input": "2023-05-10T09:04:59.972448Z",
     "iopub.status.busy": "2023-05-10T09:04:59.971410Z",
     "iopub.status.idle": "2023-05-10T09:04:59.979232Z",
     "shell.execute_reply": "2023-05-10T09:04:59.978146Z"
    },
    "papermill": {
     "duration": 0.030289,
     "end_time": "2023-05-10T09:04:59.981755",
     "exception": false,
     "start_time": "2023-05-10T09:04:59.951466",
     "status": "completed"
    },
    "tags": []
   },
   "outputs": [
    {
     "data": {
      "text/plain": [
       "array([[31477.9420101]])"
      ]
     },
     "execution_count": 37,
     "metadata": {},
     "output_type": "execute_result"
    }
   ],
   "source": [
    "reg.predict([[2000]])"
   ]
  },
  {
   "cell_type": "code",
   "execution_count": 38,
   "id": "f15910d4",
   "metadata": {
    "execution": {
     "iopub.execute_input": "2023-05-10T09:05:00.023193Z",
     "iopub.status.busy": "2023-05-10T09:05:00.022733Z",
     "iopub.status.idle": "2023-05-10T09:05:00.301638Z",
     "shell.execute_reply": "2023-05-10T09:05:00.300461Z"
    },
    "papermill": {
     "duration": 0.30349,
     "end_time": "2023-05-10T09:05:00.304406",
     "exception": false,
     "start_time": "2023-05-10T09:05:00.000916",
     "status": "completed"
    },
    "tags": []
   },
   "outputs": [
    {
     "data": {
      "text/plain": [
       "[<matplotlib.lines.Line2D at 0x7e9a3531d990>]"
      ]
     },
     "execution_count": 38,
     "metadata": {},
     "output_type": "execute_result"
    },
    {
     "data": {
      "image/png": "[encoded data removed]",
      "text/plain": [
       "<Figure size 640x480 with 1 Axes>"
      ]
     },
     "metadata": {},
     "output_type": "display_data"
    }
   ],
   "source": [
    "#best fit line\n",
    "plt.plot(xtest,reg.predict(xtest))"
   ]
  },
  {
   "cell_type": "code",
   "execution_count": 39,
   "id": "4427b7ae",
   "metadata": {
    "execution": {
     "iopub.execute_input": "2023-05-10T09:05:00.345642Z",
     "iopub.status.busy": "2023-05-10T09:05:00.345232Z",
     "iopub.status.idle": "2023-05-10T09:05:00.636341Z",
     "shell.execute_reply": "2023-05-10T09:05:00.635099Z"
    },
    "papermill": {
     "duration": 0.315044,
     "end_time": "2023-05-10T09:05:00.638964",
     "exception": false,
     "start_time": "2023-05-10T09:05:00.323920",
     "status": "completed"
    },
    "tags": []
   },
   "outputs": [
    {
     "data": {
      "text/plain": [
       "[<matplotlib.lines.Line2D at 0x7e9a35128f10>]"
      ]
     },
     "execution_count": 39,
     "metadata": {},
     "output_type": "execute_result"
    },
    {
     "data": {
      "image/png": "[encoded data removed]",
      "text/plain": [
       "<Figure size 640x480 with 1 Axes>"
      ]
     },
     "metadata": {},
     "output_type": "display_data"
    }
   ],
   "source": [
    "plt.scatter(df[\"area\"],df[\"rent\"],color=\"red\",marker=\"+\")\n",
    "plt.xlabel(\"Area in Square Feet\",color=\"red\")\n",
    "plt.ylabel(\"Rent in BDT\",color=\"red\")\n",
    "plt.title(\"Rent Plot\", color=\"green\")\n",
    "plt.plot(df.area,reg.predict(df[[\"area\"]]),color=\"green\") #for whole data"
   ]
  }
 ],
 "metadata": {
  "kernelspec": {
   "display_name": "Python 3",
   "language": "python",
   "name": "python3"
  },
  "language_info": {
   "codemirror_mode": {
    "name": "ipython",
    "version": 3
   },
   "file_extension": ".py",
   "mimetype": "text/x-python",
   "name": "python",
   "nbconvert_exporter": "python",
   "pygments_lexer": "ipython3",
   "version": "3.10.10"
  },
  "papermill": {
   "default_parameters": {},
   "duration": 18.877697,
   "end_time": "2023-05-10T09:05:01.682456",
   "environment_variables": {},
   "exception": null,
   "input_path": "__notebook__.ipynb",
   "output_path": "__notebook__.ipynb",
   "parameters": {},
   "start_time": "2023-05-10T09:04:42.804759",
   "version": "2.4.0"
  }
 },
 "nbformat": 4,
 "nbformat_minor": 5
}
