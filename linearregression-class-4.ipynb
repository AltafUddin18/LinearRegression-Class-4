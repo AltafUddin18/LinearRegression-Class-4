{
 "cells": [
  {
   "cell_type": "markdown",
   "id": "1cea7f34",
   "metadata": {
    "papermill": {
     "duration": 0.010083,
     "end_time": "2023-05-10T09:10:54.911087",
     "exception": false,
     "start_time": "2023-05-10T09:10:54.901004",
     "status": "completed"
    },
    "tags": []
   },
   "source": [
    "# Class 4"
   ]
  },
  {
   "cell_type": "code",
   "execution_count": 1,
   "id": "50d94ef0",
   "metadata": {
    "execution": {
     "iopub.execute_input": "2023-05-10T09:10:54.932230Z",
     "iopub.status.busy": "2023-05-10T09:10:54.931827Z",
     "iopub.status.idle": "2023-05-10T09:10:56.350115Z",
     "shell.execute_reply": "2023-05-10T09:10:56.349018Z"
    },
    "papermill": {
     "duration": 1.432161,
     "end_time": "2023-05-10T09:10:56.352936",
     "exception": false,
     "start_time": "2023-05-10T09:10:54.920775",
     "status": "completed"
    },
    "tags": []
   },
   "outputs": [
    {
     "name": "stderr",
     "output_type": "stream",
     "text": [
      "/opt/conda/lib/python3.10/site-packages/scipy/__init__.py:146: UserWarning: A NumPy version >=1.16.5 and <1.23.0 is required for this version of SciPy (detected version 1.23.5\n",
      "  warnings.warn(f\"A NumPy version >={np_minversion} and <{np_maxversion}\"\n"
     ]
    }
   ],
   "source": [
    "import pandas as pd\n",
    "import numpy as np\n",
    "import seaborn as sns \n",
    "from matplotlib import pyplot as plt"
   ]
  },
  {
   "cell_type": "code",
   "execution_count": 2,
   "id": "3b7dd558",
   "metadata": {
    "execution": {
     "iopub.execute_input": "2023-05-10T09:10:56.373139Z",
     "iopub.status.busy": "2023-05-10T09:10:56.372206Z",
     "iopub.status.idle": "2023-05-10T09:10:56.394309Z",
     "shell.execute_reply": "2023-05-10T09:10:56.393109Z"
    },
    "papermill": {
     "duration": 0.034884,
     "end_time": "2023-05-10T09:10:56.396919",
     "exception": false,
     "start_time": "2023-05-10T09:10:56.362035",
     "status": "completed"
    },
    "tags": []
   },
   "outputs": [],
   "source": [
    "df = pd.read_csv(\"/kaggle/input/dhakarent/DhakaRent.csv\")"
   ]
  },
  {
   "cell_type": "code",
   "execution_count": 3,
   "id": "75aa2ea9",
   "metadata": {
    "collapsed": true,
    "execution": {
     "iopub.execute_input": "2023-05-10T09:10:56.417572Z",
     "iopub.status.busy": "2023-05-10T09:10:56.416338Z",
     "iopub.status.idle": "2023-05-10T09:10:56.444392Z",
     "shell.execute_reply": "2023-05-10T09:10:56.443299Z"
    },
    "jupyter": {
     "outputs_hidden": true
    },
    "papermill": {
     "duration": 0.040619,
     "end_time": "2023-05-10T09:10:56.446693",
     "exception": false,
     "start_time": "2023-05-10T09:10:56.406074",
     "status": "completed"
    },
    "tags": []
   },
   "outputs": [
    {
     "data": {
      "text/html": [
       "<div>\n",
       "<style scoped>\n",
       "    .dataframe tbody tr th:only-of-type {\n",
       "        vertical-align: middle;\n",
       "    }\n",
       "\n",
       "    .dataframe tbody tr th {\n",
       "        vertical-align: top;\n",
       "    }\n",
       "\n",
       "    .dataframe thead th {\n",
       "        text-align: right;\n",
       "    }\n",
       "</style>\n",
       "<table border=\"1\" class=\"dataframe\">\n",
       "  <thead>\n",
       "    <tr style=\"text-align: right;\">\n",
       "      <th></th>\n",
       "      <th>area</th>\n",
       "      <th>rent</th>\n",
       "    </tr>\n",
       "  </thead>\n",
       "  <tbody>\n",
       "    <tr>\n",
       "      <th>0</th>\n",
       "      <td>2000</td>\n",
       "      <td>31500</td>\n",
       "    </tr>\n",
       "    <tr>\n",
       "      <th>1</th>\n",
       "      <td>2100</td>\n",
       "      <td>35000</td>\n",
       "    </tr>\n",
       "    <tr>\n",
       "      <th>2</th>\n",
       "      <td>2500</td>\n",
       "      <td>41050</td>\n",
       "    </tr>\n",
       "    <tr>\n",
       "      <th>3</th>\n",
       "      <td>2250</td>\n",
       "      <td>36100</td>\n",
       "    </tr>\n",
       "    <tr>\n",
       "      <th>4</th>\n",
       "      <td>3000</td>\n",
       "      <td>52100</td>\n",
       "    </tr>\n",
       "  </tbody>\n",
       "</table>\n",
       "</div>"
      ],
      "text/plain": [
       "   area   rent\n",
       "0  2000  31500\n",
       "1  2100  35000\n",
       "2  2500  41050\n",
       "3  2250  36100\n",
       "4  3000  52100"
      ]
     },
     "execution_count": 3,
     "metadata": {},
     "output_type": "execute_result"
    }
   ],
   "source": [
    "df.head()"
   ]
  },
  {
   "cell_type": "code",
   "execution_count": 4,
   "id": "af3be60c",
   "metadata": {
    "execution": {
     "iopub.execute_input": "2023-05-10T09:10:56.467080Z",
     "iopub.status.busy": "2023-05-10T09:10:56.466684Z",
     "iopub.status.idle": "2023-05-10T09:10:56.476045Z",
     "shell.execute_reply": "2023-05-10T09:10:56.474923Z"
    },
    "papermill": {
     "duration": 0.022214,
     "end_time": "2023-05-10T09:10:56.478234",
     "exception": false,
     "start_time": "2023-05-10T09:10:56.456020",
     "status": "completed"
    },
    "tags": []
   },
   "outputs": [
    {
     "data": {
      "text/html": [
       "<div>\n",
       "<style scoped>\n",
       "    .dataframe tbody tr th:only-of-type {\n",
       "        vertical-align: middle;\n",
       "    }\n",
       "\n",
       "    .dataframe tbody tr th {\n",
       "        vertical-align: top;\n",
       "    }\n",
       "\n",
       "    .dataframe thead th {\n",
       "        text-align: right;\n",
       "    }\n",
       "</style>\n",
       "<table border=\"1\" class=\"dataframe\">\n",
       "  <thead>\n",
       "    <tr style=\"text-align: right;\">\n",
       "      <th></th>\n",
       "      <th>area</th>\n",
       "      <th>rent</th>\n",
       "    </tr>\n",
       "  </thead>\n",
       "  <tbody>\n",
       "    <tr>\n",
       "      <th>35</th>\n",
       "      <td>1900</td>\n",
       "      <td>32300</td>\n",
       "    </tr>\n",
       "    <tr>\n",
       "      <th>36</th>\n",
       "      <td>1500</td>\n",
       "      <td>20200</td>\n",
       "    </tr>\n",
       "    <tr>\n",
       "      <th>37</th>\n",
       "      <td>1850</td>\n",
       "      <td>24000</td>\n",
       "    </tr>\n",
       "    <tr>\n",
       "      <th>38</th>\n",
       "      <td>2700</td>\n",
       "      <td>47500</td>\n",
       "    </tr>\n",
       "    <tr>\n",
       "      <th>39</th>\n",
       "      <td>2100</td>\n",
       "      <td>31500</td>\n",
       "    </tr>\n",
       "  </tbody>\n",
       "</table>\n",
       "</div>"
      ],
      "text/plain": [
       "    area   rent\n",
       "35  1900  32300\n",
       "36  1500  20200\n",
       "37  1850  24000\n",
       "38  2700  47500\n",
       "39  2100  31500"
      ]
     },
     "execution_count": 4,
     "metadata": {},
     "output_type": "execute_result"
    }
   ],
   "source": [
    "df.tail()"
   ]
  },
  {
   "cell_type": "code",
   "execution_count": 5,
   "id": "8b033126",
   "metadata": {
    "execution": {
     "iopub.execute_input": "2023-05-10T09:10:56.500309Z",
     "iopub.status.busy": "2023-05-10T09:10:56.499676Z",
     "iopub.status.idle": "2023-05-10T09:10:56.524486Z",
     "shell.execute_reply": "2023-05-10T09:10:56.522753Z"
    },
    "papermill": {
     "duration": 0.038494,
     "end_time": "2023-05-10T09:10:56.526834",
     "exception": false,
     "start_time": "2023-05-10T09:10:56.488340",
     "status": "completed"
    },
    "tags": []
   },
   "outputs": [
    {
     "name": "stdout",
     "output_type": "stream",
     "text": [
      "<class 'pandas.core.frame.DataFrame'>\n",
      "RangeIndex: 40 entries, 0 to 39\n",
      "Data columns (total 2 columns):\n",
      " #   Column  Non-Null Count  Dtype\n",
      "---  ------  --------------  -----\n",
      " 0   area    40 non-null     int64\n",
      " 1   rent    40 non-null     int64\n",
      "dtypes: int64(2)\n",
      "memory usage: 768.0 bytes\n"
     ]
    }
   ],
   "source": [
    " df.info()"
   ]
  },
  {
   "cell_type": "code",
   "execution_count": 6,
   "id": "ccaa2f02",
   "metadata": {
    "execution": {
     "iopub.execute_input": "2023-05-10T09:10:56.548125Z",
     "iopub.status.busy": "2023-05-10T09:10:56.547718Z",
     "iopub.status.idle": "2023-05-10T09:10:56.554346Z",
     "shell.execute_reply": "2023-05-10T09:10:56.553303Z"
    },
    "papermill": {
     "duration": 0.019833,
     "end_time": "2023-05-10T09:10:56.556467",
     "exception": false,
     "start_time": "2023-05-10T09:10:56.536634",
     "status": "completed"
    },
    "tags": []
   },
   "outputs": [
    {
     "data": {
      "text/plain": [
       "(40, 2)"
      ]
     },
     "execution_count": 6,
     "metadata": {},
     "output_type": "execute_result"
    }
   ],
   "source": [
    "df.shape"
   ]
  },
  {
   "cell_type": "code",
   "execution_count": 7,
   "id": "937fbd43",
   "metadata": {
    "execution": {
     "iopub.execute_input": "2023-05-10T09:10:56.578312Z",
     "iopub.status.busy": "2023-05-10T09:10:56.577218Z",
     "iopub.status.idle": "2023-05-10T09:10:56.817281Z",
     "shell.execute_reply": "2023-05-10T09:10:56.816141Z"
    },
    "papermill": {
     "duration": 0.253651,
     "end_time": "2023-05-10T09:10:56.819714",
     "exception": false,
     "start_time": "2023-05-10T09:10:56.566063",
     "status": "completed"
    },
    "tags": []
   },
   "outputs": [
    {
     "data": {
      "text/plain": [
       "<matplotlib.collections.PathCollection at 0x7d5b2ae61a50>"
      ]
     },
     "execution_count": 7,
     "metadata": {},
     "output_type": "execute_result"
    },
    {
     "data": {
      "image/png": "[encoded data removed]",
      "text/plain": [
       "<Figure size 640x480 with 1 Axes>"
      ]
     },
     "metadata": {},
     "output_type": "display_data"
    }
   ],
   "source": [
    "plt.scatter(df[\"area\"],df[\"rent\"])"
   ]
  },
  {
   "cell_type": "code",
   "execution_count": 8,
   "id": "3dc5b130",
   "metadata": {
    "execution": {
     "iopub.execute_input": "2023-05-10T09:10:56.841977Z",
     "iopub.status.busy": "2023-05-10T09:10:56.841342Z",
     "iopub.status.idle": "2023-05-10T09:10:57.039934Z",
     "shell.execute_reply": "2023-05-10T09:10:57.039122Z"
    },
    "papermill": {
     "duration": 0.212211,
     "end_time": "2023-05-10T09:10:57.042034",
     "exception": false,
     "start_time": "2023-05-10T09:10:56.829823",
     "status": "completed"
    },
    "tags": []
   },
   "outputs": [
    {
     "data": {
      "text/plain": [
       "<matplotlib.collections.PathCollection at 0x7d5b2b26b040>"
      ]
     },
     "execution_count": 8,
     "metadata": {},
     "output_type": "execute_result"
    },
    {
     "data": {
      "image/png": "[encoded data removed]",
      "text/plain": [
       "<Figure size 640x480 with 1 Axes>"
      ]
     },
     "metadata": {},
     "output_type": "display_data"
    }
   ],
   "source": [
    "plt.scatter(df[\"area\"],df[\"rent\"],color=\"red\",marker=\"+\")"
   ]
  },
  {
   "cell_type": "code",
   "execution_count": 9,
   "id": "c185c174",
   "metadata": {
    "execution": {
     "iopub.execute_input": "2023-05-10T09:10:57.065973Z",
     "iopub.status.busy": "2023-05-10T09:10:57.065035Z",
     "iopub.status.idle": "2023-05-10T09:10:57.275930Z",
     "shell.execute_reply": "2023-05-10T09:10:57.274767Z"
    },
    "papermill": {
     "duration": 0.226119,
     "end_time": "2023-05-10T09:10:57.278705",
     "exception": false,
     "start_time": "2023-05-10T09:10:57.052586",
     "status": "completed"
    },
    "scrolled": true,
    "tags": []
   },
   "outputs": [
    {
     "data": {
      "text/plain": [
       "Text(0.5, 1.0, 'Rent Plot')"
      ]
     },
     "execution_count": 9,
     "metadata": {},
     "output_type": "execute_result"
    },
    {
     "data": {
      "image/png": "[encoded data removed]",
      "text/plain": [
       "<Figure size 640x480 with 1 Axes>"
      ]
     },
     "metadata": {},
     "output_type": "display_data"
    }
   ],
   "source": [
    "plt.scatter(df[\"area\"],df[\"rent\"],color=\"red\",marker=\"+\")\n",
    "plt.xlabel(\"Area in Square Feet\",color=\"red\")\n",
    "plt.ylabel(\"Rent in BDT\",color=\"red\")\n",
    "plt.title(\"Rent Plot\", color=\"green\")"
   ]
  },
  {
   "cell_type": "code",
   "execution_count": 10,
   "id": "0ed4d56d",
   "metadata": {
    "execution": {
     "iopub.execute_input": "2023-05-10T09:10:57.302846Z",
     "iopub.status.busy": "2023-05-10T09:10:57.302446Z",
     "iopub.status.idle": "2023-05-10T09:10:57.309152Z",
     "shell.execute_reply": "2023-05-10T09:10:57.308051Z"
    },
    "papermill": {
     "duration": 0.021657,
     "end_time": "2023-05-10T09:10:57.311536",
     "exception": false,
     "start_time": "2023-05-10T09:10:57.289879",
     "status": "completed"
    },
    "tags": []
   },
   "outputs": [
    {
     "data": {
      "text/plain": [
       "2265.5"
      ]
     },
     "execution_count": 10,
     "metadata": {},
     "output_type": "execute_result"
    }
   ],
   "source": [
    "df.area.mean()"
   ]
  },
  {
   "cell_type": "code",
   "execution_count": 11,
   "id": "912ea367",
   "metadata": {
    "execution": {
     "iopub.execute_input": "2023-05-10T09:10:57.336010Z",
     "iopub.status.busy": "2023-05-10T09:10:57.335597Z",
     "iopub.status.idle": "2023-05-10T09:10:57.341599Z",
     "shell.execute_reply": "2023-05-10T09:10:57.340799Z"
    },
    "papermill": {
     "duration": 0.020964,
     "end_time": "2023-05-10T09:10:57.343676",
     "exception": false,
     "start_time": "2023-05-10T09:10:57.322712",
     "status": "completed"
    },
    "tags": []
   },
   "outputs": [
    {
     "data": {
      "text/plain": [
       "36704.25"
      ]
     },
     "execution_count": 11,
     "metadata": {},
     "output_type": "execute_result"
    }
   ],
   "source": [
    "df.rent.mean()"
   ]
  },
  {
   "cell_type": "markdown",
   "id": "41466fd4",
   "metadata": {
    "papermill": {
     "duration": 0.010865,
     "end_time": "2023-05-10T09:10:57.365949",
     "exception": false,
     "start_time": "2023-05-10T09:10:57.355084",
     "status": "completed"
    },
    "tags": []
   },
   "source": [
    "## Seperate dependent and independent variable"
   ]
  },
  {
   "cell_type": "code",
   "execution_count": 12,
   "id": "802f316c",
   "metadata": {
    "execution": {
     "iopub.execute_input": "2023-05-10T09:10:57.391104Z",
     "iopub.status.busy": "2023-05-10T09:10:57.390441Z",
     "iopub.status.idle": "2023-05-10T09:10:57.398741Z",
     "shell.execute_reply": "2023-05-10T09:10:57.397837Z"
    },
    "papermill": {
     "duration": 0.023631,
     "end_time": "2023-05-10T09:10:57.401050",
     "exception": false,
     "start_time": "2023-05-10T09:10:57.377419",
     "status": "completed"
    },
    "tags": []
   },
   "outputs": [
    {
     "data": {
      "text/html": [
       "<div>\n",
       "<style scoped>\n",
       "    .dataframe tbody tr th:only-of-type {\n",
       "        vertical-align: middle;\n",
       "    }\n",
       "\n",
       "    .dataframe tbody tr th {\n",
       "        vertical-align: top;\n",
       "    }\n",
       "\n",
       "    .dataframe thead th {\n",
       "        text-align: right;\n",
       "    }\n",
       "</style>\n",
       "<table border=\"1\" class=\"dataframe\">\n",
       "  <thead>\n",
       "    <tr style=\"text-align: right;\">\n",
       "      <th></th>\n",
       "      <th>area</th>\n",
       "      <th>rent</th>\n",
       "    </tr>\n",
       "  </thead>\n",
       "  <tbody>\n",
       "    <tr>\n",
       "      <th>0</th>\n",
       "      <td>2000</td>\n",
       "      <td>31500</td>\n",
       "    </tr>\n",
       "    <tr>\n",
       "      <th>1</th>\n",
       "      <td>2100</td>\n",
       "      <td>35000</td>\n",
       "    </tr>\n",
       "    <tr>\n",
       "      <th>2</th>\n",
       "      <td>2500</td>\n",
       "      <td>41050</td>\n",
       "    </tr>\n",
       "    <tr>\n",
       "      <th>3</th>\n",
       "      <td>2250</td>\n",
       "      <td>36100</td>\n",
       "    </tr>\n",
       "    <tr>\n",
       "      <th>4</th>\n",
       "      <td>3000</td>\n",
       "      <td>52100</td>\n",
       "    </tr>\n",
       "  </tbody>\n",
       "</table>\n",
       "</div>"
      ],
      "text/plain": [
       "   area   rent\n",
       "0  2000  31500\n",
       "1  2100  35000\n",
       "2  2500  41050\n",
       "3  2250  36100\n",
       "4  3000  52100"
      ]
     },
     "execution_count": 12,
     "metadata": {},
     "output_type": "execute_result"
    }
   ],
   "source": [
    "df.head()"
   ]
  },
  {
   "cell_type": "code",
   "execution_count": 13,
   "id": "42eafe8b",
   "metadata": {
    "execution": {
     "iopub.execute_input": "2023-05-10T09:10:57.427731Z",
     "iopub.status.busy": "2023-05-10T09:10:57.427050Z",
     "iopub.status.idle": "2023-05-10T09:10:57.435116Z",
     "shell.execute_reply": "2023-05-10T09:10:57.434164Z"
    },
    "papermill": {
     "duration": 0.025521,
     "end_time": "2023-05-10T09:10:57.438114",
     "exception": false,
     "start_time": "2023-05-10T09:10:57.412593",
     "status": "completed"
    },
    "tags": []
   },
   "outputs": [],
   "source": [
    "x=df[[\"area\"]]"
   ]
  },
  {
   "cell_type": "code",
   "execution_count": 14,
   "id": "03a4c7be",
   "metadata": {
    "execution": {
     "iopub.execute_input": "2023-05-10T09:10:57.463818Z",
     "iopub.status.busy": "2023-05-10T09:10:57.463151Z",
     "iopub.status.idle": "2023-05-10T09:10:57.468725Z",
     "shell.execute_reply": "2023-05-10T09:10:57.467858Z"
    },
    "papermill": {
     "duration": 0.021158,
     "end_time": "2023-05-10T09:10:57.470957",
     "exception": false,
     "start_time": "2023-05-10T09:10:57.449799",
     "status": "completed"
    },
    "tags": []
   },
   "outputs": [],
   "source": [
    "y=df[[\"rent\"]]"
   ]
  },
  {
   "cell_type": "code",
   "execution_count": 15,
   "id": "49a6ec2b",
   "metadata": {
    "execution": {
     "iopub.execute_input": "2023-05-10T09:10:57.495657Z",
     "iopub.status.busy": "2023-05-10T09:10:57.494983Z",
     "iopub.status.idle": "2023-05-10T09:10:57.502862Z",
     "shell.execute_reply": "2023-05-10T09:10:57.501933Z"
    },
    "papermill": {
     "duration": 0.022911,
     "end_time": "2023-05-10T09:10:57.505184",
     "exception": false,
     "start_time": "2023-05-10T09:10:57.482273",
     "status": "completed"
    },
    "tags": []
   },
   "outputs": [
    {
     "data": {
      "text/html": [
       "<div>\n",
       "<style scoped>\n",
       "    .dataframe tbody tr th:only-of-type {\n",
       "        vertical-align: middle;\n",
       "    }\n",
       "\n",
       "    .dataframe tbody tr th {\n",
       "        vertical-align: top;\n",
       "    }\n",
       "\n",
       "    .dataframe thead th {\n",
       "        text-align: right;\n",
       "    }\n",
       "</style>\n",
       "<table border=\"1\" class=\"dataframe\">\n",
       "  <thead>\n",
       "    <tr style=\"text-align: right;\">\n",
       "      <th></th>\n",
       "      <th>area</th>\n",
       "    </tr>\n",
       "  </thead>\n",
       "  <tbody>\n",
       "    <tr>\n",
       "      <th>0</th>\n",
       "      <td>2000</td>\n",
       "    </tr>\n",
       "    <tr>\n",
       "      <th>1</th>\n",
       "      <td>2100</td>\n",
       "    </tr>\n",
       "    <tr>\n",
       "      <th>2</th>\n",
       "      <td>2500</td>\n",
       "    </tr>\n",
       "    <tr>\n",
       "      <th>3</th>\n",
       "      <td>2250</td>\n",
       "    </tr>\n",
       "    <tr>\n",
       "      <th>4</th>\n",
       "      <td>3000</td>\n",
       "    </tr>\n",
       "  </tbody>\n",
       "</table>\n",
       "</div>"
      ],
      "text/plain": [
       "   area\n",
       "0  2000\n",
       "1  2100\n",
       "2  2500\n",
       "3  2250\n",
       "4  3000"
      ]
     },
     "execution_count": 15,
     "metadata": {},
     "output_type": "execute_result"
    }
   ],
   "source": [
    "x.head()"
   ]
  },
  {
   "cell_type": "code",
   "execution_count": 16,
   "id": "f25fc623",
   "metadata": {
    "execution": {
     "iopub.execute_input": "2023-05-10T09:10:57.530173Z",
     "iopub.status.busy": "2023-05-10T09:10:57.529778Z",
     "iopub.status.idle": "2023-05-10T09:10:57.539383Z",
     "shell.execute_reply": "2023-05-10T09:10:57.537981Z"
    },
    "papermill": {
     "duration": 0.025439,
     "end_time": "2023-05-10T09:10:57.542118",
     "exception": false,
     "start_time": "2023-05-10T09:10:57.516679",
     "status": "completed"
    },
    "tags": []
   },
   "outputs": [
    {
     "data": {
      "text/html": [
       "<div>\n",
       "<style scoped>\n",
       "    .dataframe tbody tr th:only-of-type {\n",
       "        vertical-align: middle;\n",
       "    }\n",
       "\n",
       "    .dataframe tbody tr th {\n",
       "        vertical-align: top;\n",
       "    }\n",
       "\n",
       "    .dataframe thead th {\n",
       "        text-align: right;\n",
       "    }\n",
       "</style>\n",
       "<table border=\"1\" class=\"dataframe\">\n",
       "  <thead>\n",
       "    <tr style=\"text-align: right;\">\n",
       "      <th></th>\n",
       "      <th>rent</th>\n",
       "    </tr>\n",
       "  </thead>\n",
       "  <tbody>\n",
       "    <tr>\n",
       "      <th>0</th>\n",
       "      <td>31500</td>\n",
       "    </tr>\n",
       "    <tr>\n",
       "      <th>1</th>\n",
       "      <td>35000</td>\n",
       "    </tr>\n",
       "    <tr>\n",
       "      <th>2</th>\n",
       "      <td>41050</td>\n",
       "    </tr>\n",
       "    <tr>\n",
       "      <th>3</th>\n",
       "      <td>36100</td>\n",
       "    </tr>\n",
       "    <tr>\n",
       "      <th>4</th>\n",
       "      <td>52100</td>\n",
       "    </tr>\n",
       "  </tbody>\n",
       "</table>\n",
       "</div>"
      ],
      "text/plain": [
       "    rent\n",
       "0  31500\n",
       "1  35000\n",
       "2  41050\n",
       "3  36100\n",
       "4  52100"
      ]
     },
     "execution_count": 16,
     "metadata": {},
     "output_type": "execute_result"
    }
   ],
   "source": [
    "y.head()"
   ]
  },
  {
   "cell_type": "markdown",
   "id": "5b9bc6c4",
   "metadata": {
    "papermill": {
     "duration": 0.011349,
     "end_time": "2023-05-10T09:10:57.565732",
     "exception": false,
     "start_time": "2023-05-10T09:10:57.554383",
     "status": "completed"
    },
    "tags": []
   },
   "source": [
    "## split the database"
   ]
  },
  {
   "cell_type": "code",
   "execution_count": 17,
   "id": "96b9bad2",
   "metadata": {
    "execution": {
     "iopub.execute_input": "2023-05-10T09:10:57.591237Z",
     "iopub.status.busy": "2023-05-10T09:10:57.590809Z",
     "iopub.status.idle": "2023-05-10T09:10:57.905091Z",
     "shell.execute_reply": "2023-05-10T09:10:57.903884Z"
    },
    "papermill": {
     "duration": 0.330203,
     "end_time": "2023-05-10T09:10:57.907796",
     "exception": false,
     "start_time": "2023-05-10T09:10:57.577593",
     "status": "completed"
    },
    "tags": []
   },
   "outputs": [],
   "source": [
    "from sklearn.model_selection import train_test_split"
   ]
  },
  {
   "cell_type": "code",
   "execution_count": 18,
   "id": "f86d83cf",
   "metadata": {
    "execution": {
     "iopub.execute_input": "2023-05-10T09:10:57.934296Z",
     "iopub.status.busy": "2023-05-10T09:10:57.933872Z",
     "iopub.status.idle": "2023-05-10T09:10:57.941518Z",
     "shell.execute_reply": "2023-05-10T09:10:57.940333Z"
    },
    "papermill": {
     "duration": 0.023172,
     "end_time": "2023-05-10T09:10:57.943917",
     "exception": false,
     "start_time": "2023-05-10T09:10:57.920745",
     "status": "completed"
    },
    "tags": []
   },
   "outputs": [],
   "source": [
    "#train=70%\n",
    "#test=30%\n",
    "\n",
    "xtrain,xtest,ytrain,ytest=train_test_split(x,y,test_size=.30) #train_size=.70"
   ]
  },
  {
   "cell_type": "code",
   "execution_count": 19,
   "id": "7fca66a7",
   "metadata": {
    "execution": {
     "iopub.execute_input": "2023-05-10T09:10:57.969869Z",
     "iopub.status.busy": "2023-05-10T09:10:57.968714Z",
     "iopub.status.idle": "2023-05-10T09:10:57.978495Z",
     "shell.execute_reply": "2023-05-10T09:10:57.977411Z"
    },
    "papermill": {
     "duration": 0.025207,
     "end_time": "2023-05-10T09:10:57.980694",
     "exception": false,
     "start_time": "2023-05-10T09:10:57.955487",
     "status": "completed"
    },
    "tags": []
   },
   "outputs": [
    {
     "data": {
      "text/html": [
       "<div>\n",
       "<style scoped>\n",
       "    .dataframe tbody tr th:only-of-type {\n",
       "        vertical-align: middle;\n",
       "    }\n",
       "\n",
       "    .dataframe tbody tr th {\n",
       "        vertical-align: top;\n",
       "    }\n",
       "\n",
       "    .dataframe thead th {\n",
       "        text-align: right;\n",
       "    }\n",
       "</style>\n",
       "<table border=\"1\" class=\"dataframe\">\n",
       "  <thead>\n",
       "    <tr style=\"text-align: right;\">\n",
       "      <th></th>\n",
       "      <th>area</th>\n",
       "    </tr>\n",
       "  </thead>\n",
       "  <tbody>\n",
       "    <tr>\n",
       "      <th>2</th>\n",
       "      <td>2500</td>\n",
       "    </tr>\n",
       "    <tr>\n",
       "      <th>14</th>\n",
       "      <td>2250</td>\n",
       "    </tr>\n",
       "    <tr>\n",
       "      <th>29</th>\n",
       "      <td>3100</td>\n",
       "    </tr>\n",
       "    <tr>\n",
       "      <th>28</th>\n",
       "      <td>2200</td>\n",
       "    </tr>\n",
       "    <tr>\n",
       "      <th>34</th>\n",
       "      <td>3000</td>\n",
       "    </tr>\n",
       "  </tbody>\n",
       "</table>\n",
       "</div>"
      ],
      "text/plain": [
       "    area\n",
       "2   2500\n",
       "14  2250\n",
       "29  3100\n",
       "28  2200\n",
       "34  3000"
      ]
     },
     "execution_count": 19,
     "metadata": {},
     "output_type": "execute_result"
    }
   ],
   "source": [
    "xtrain.head()"
   ]
  },
  {
   "cell_type": "code",
   "execution_count": 20,
   "id": "cbe8bfa4",
   "metadata": {
    "execution": {
     "iopub.execute_input": "2023-05-10T09:10:58.006587Z",
     "iopub.status.busy": "2023-05-10T09:10:58.005589Z",
     "iopub.status.idle": "2023-05-10T09:10:58.012628Z",
     "shell.execute_reply": "2023-05-10T09:10:58.011475Z"
    },
    "papermill": {
     "duration": 0.022454,
     "end_time": "2023-05-10T09:10:58.014926",
     "exception": false,
     "start_time": "2023-05-10T09:10:57.992472",
     "status": "completed"
    },
    "tags": []
   },
   "outputs": [
    {
     "data": {
      "text/plain": [
       "(12, 1)"
      ]
     },
     "execution_count": 20,
     "metadata": {},
     "output_type": "execute_result"
    }
   ],
   "source": [
    "xtest.shape"
   ]
  },
  {
   "cell_type": "code",
   "execution_count": 21,
   "id": "f3e69bb5",
   "metadata": {
    "execution": {
     "iopub.execute_input": "2023-05-10T09:10:58.041163Z",
     "iopub.status.busy": "2023-05-10T09:10:58.040175Z",
     "iopub.status.idle": "2023-05-10T09:10:58.047269Z",
     "shell.execute_reply": "2023-05-10T09:10:58.046365Z"
    },
    "papermill": {
     "duration": 0.022763,
     "end_time": "2023-05-10T09:10:58.049717",
     "exception": false,
     "start_time": "2023-05-10T09:10:58.026954",
     "status": "completed"
    },
    "tags": []
   },
   "outputs": [
    {
     "data": {
      "text/plain": [
       "(28, 1)"
      ]
     },
     "execution_count": 21,
     "metadata": {},
     "output_type": "execute_result"
    }
   ],
   "source": [
    "xtrain.shape"
   ]
  },
  {
   "cell_type": "markdown",
   "id": "f785d3dd",
   "metadata": {
    "papermill": {
     "duration": 0.012664,
     "end_time": "2023-05-10T09:10:58.074533",
     "exception": false,
     "start_time": "2023-05-10T09:10:58.061869",
     "status": "completed"
    },
    "tags": []
   },
   "source": [
    "## Linear regression"
   ]
  },
  {
   "cell_type": "code",
   "execution_count": 22,
   "id": "e1bc0105",
   "metadata": {
    "execution": {
     "iopub.execute_input": "2023-05-10T09:10:58.101198Z",
     "iopub.status.busy": "2023-05-10T09:10:58.100817Z",
     "iopub.status.idle": "2023-05-10T09:10:58.220279Z",
     "shell.execute_reply": "2023-05-10T09:10:58.219295Z"
    },
    "papermill": {
     "duration": 0.135536,
     "end_time": "2023-05-10T09:10:58.222921",
     "exception": false,
     "start_time": "2023-05-10T09:10:58.087385",
     "status": "completed"
    },
    "tags": []
   },
   "outputs": [],
   "source": [
    "from sklearn.linear_model import LinearRegression as lreg"
   ]
  },
  {
   "cell_type": "code",
   "execution_count": 23,
   "id": "7055bee2",
   "metadata": {
    "execution": {
     "iopub.execute_input": "2023-05-10T09:10:58.249893Z",
     "iopub.status.busy": "2023-05-10T09:10:58.249039Z",
     "iopub.status.idle": "2023-05-10T09:10:58.253529Z",
     "shell.execute_reply": "2023-05-10T09:10:58.252707Z"
    },
    "papermill": {
     "duration": 0.020649,
     "end_time": "2023-05-10T09:10:58.255753",
     "exception": false,
     "start_time": "2023-05-10T09:10:58.235104",
     "status": "completed"
    },
    "tags": []
   },
   "outputs": [],
   "source": [
    "reg= lreg()"
   ]
  },
  {
   "cell_type": "code",
   "execution_count": 24,
   "id": "996845f1",
   "metadata": {
    "execution": {
     "iopub.execute_input": "2023-05-10T09:10:58.283311Z",
     "iopub.status.busy": "2023-05-10T09:10:58.282734Z",
     "iopub.status.idle": "2023-05-10T09:10:58.311849Z",
     "shell.execute_reply": "2023-05-10T09:10:58.310944Z"
    },
    "papermill": {
     "duration": 0.045464,
     "end_time": "2023-05-10T09:10:58.313931",
     "exception": false,
     "start_time": "2023-05-10T09:10:58.268467",
     "status": "completed"
    },
    "tags": []
   },
   "outputs": [
    {
     "data": {
      "text/html": [
       "<style>#sk-container-id-1 {color: black;background-color: white;}#sk-container-id-1 pre{padding: 0;}#sk-container-id-1 div.sk-toggleable {background-color: white;}#sk-container-id-1 label.sk-toggleable__label {cursor: pointer;display: block;width: 100%;margin-bottom: 0;padding: 0.3em;box-sizing: border-box;text-align: center;}#sk-container-id-1 label.sk-toggleable__label-arrow:before {content: \"▸\";float: left;margin-right: 0.25em;color: #696969;}#sk-container-id-1 label.sk-toggleable__label-arrow:hover:before {color: black;}#sk-container-id-1 div.sk-estimator:hover label.sk-toggleable__label-arrow:before {color: black;}#sk-container-id-1 div.sk-toggleable__content {max-height: 0;max-width: 0;overflow: hidden;text-align: left;background-color: #f0f8ff;}#sk-container-id-1 div.sk-toggleable__content pre {margin: 0.2em;color: black;border-radius: 0.25em;background-color: #f0f8ff;}#sk-container-id-1 input.sk-toggleable__control:checked~div.sk-toggleable__content {max-height: 200px;max-width: 100%;overflow: auto;}#sk-container-id-1 input.sk-toggleable__control:checked~label.sk-toggleable__label-arrow:before {content: \"▾\";}#sk-container-id-1 div.sk-estimator input.sk-toggleable__control:checked~label.sk-toggleable__label {background-color: #d4ebff;}#sk-container-id-1 div.sk-label input.sk-toggleable__control:checked~label.sk-toggleable__label {background-color: #d4ebff;}#sk-container-id-1 input.sk-hidden--visually {border: 0;clip: rect(1px 1px 1px 1px);clip: rect(1px, 1px, 1px, 1px);height: 1px;margin: -1px;overflow: hidden;padding: 0;position: absolute;width: 1px;}#sk-container-id-1 div.sk-estimator {font-family: monospace;background-color: #f0f8ff;border: 1px dotted black;border-radius: 0.25em;box-sizing: border-box;margin-bottom: 0.5em;}#sk-container-id-1 div.sk-estimator:hover {background-color: #d4ebff;}#sk-container-id-1 div.sk-parallel-item::after {content: \"\";width: 100%;border-bottom: 1px solid gray;flex-grow: 1;}#sk-container-id-1 div.sk-label:hover label.sk-toggleable__label {background-color: #d4ebff;}#sk-container-id-1 div.sk-serial::before {content: \"\";position: absolute;border-left: 1px solid gray;box-sizing: border-box;top: 0;bottom: 0;left: 50%;z-index: 0;}#sk-container-id-1 div.sk-serial {display: flex;flex-direction: column;align-items: center;background-color: white;padding-right: 0.2em;padding-left: 0.2em;position: relative;}#sk-container-id-1 div.sk-item {position: relative;z-index: 1;}#sk-container-id-1 div.sk-parallel {display: flex;align-items: stretch;justify-content: center;background-color: white;position: relative;}#sk-container-id-1 div.sk-item::before, #sk-container-id-1 div.sk-parallel-item::before {content: \"\";position: absolute;border-left: 1px solid gray;box-sizing: border-box;top: 0;bottom: 0;left: 50%;z-index: -1;}#sk-container-id-1 div.sk-parallel-item {display: flex;flex-direction: column;z-index: 1;position: relative;background-color: white;}#sk-container-id-1 div.sk-parallel-item:first-child::after {align-self: flex-end;width: 50%;}#sk-container-id-1 div.sk-parallel-item:last-child::after {align-self: flex-start;width: 50%;}#sk-container-id-1 div.sk-parallel-item:only-child::after {width: 0;}#sk-container-id-1 div.sk-dashed-wrapped {border: 1px dashed gray;margin: 0 0.4em 0.5em 0.4em;box-sizing: border-box;padding-bottom: 0.4em;background-color: white;}#sk-container-id-1 div.sk-label label {font-family: monospace;font-weight: bold;display: inline-block;line-height: 1.2em;}#sk-container-id-1 div.sk-label-container {text-align: center;}#sk-container-id-1 div.sk-container {/* jupyter's `normalize.less` sets `[hidden] { display: none; }` but bootstrap.min.css set `[hidden] { display: none !important; }` so we also need the `!important` here to be able to override the default hidden behavior on the sphinx rendered scikit-learn.org. See: https://github.com/scikit-learn/scikit-learn/issues/21755 */display: inline-block !important;position: relative;}#sk-container-id-1 div.sk-text-repr-fallback {display: none;}</style><div id=\"sk-container-id-1\" class=\"sk-top-container\"><div class=\"sk-text-repr-fallback\"><pre>LinearRegression()</pre><b>In a Jupyter environment, please rerun this cell to show the HTML representation or trust the notebook. <br />On GitHub, the HTML representation is unable to render, please try loading this page with nbviewer.org.</b></div><div class=\"sk-container\" hidden><div class=\"sk-item\"><div class=\"sk-estimator sk-toggleable\"><input class=\"sk-toggleable__control sk-hidden--visually\" id=\"sk-estimator-id-1\" type=\"checkbox\" checked><label for=\"sk-estimator-id-1\" class=\"sk-toggleable__label sk-toggleable__label-arrow\">LinearRegression</label><div class=\"sk-toggleable__content\"><pre>LinearRegression()</pre></div></div></div></div></div>"
      ],
      "text/plain": [
       "LinearRegression()"
      ]
     },
     "execution_count": 24,
     "metadata": {},
     "output_type": "execute_result"
    }
   ],
   "source": [
    "reg.fit(xtrain,ytrain) #training the data"
   ]
  },
  {
   "cell_type": "code",
   "execution_count": 25,
   "id": "1115f1bf",
   "metadata": {
    "execution": {
     "iopub.execute_input": "2023-05-10T09:10:58.340900Z",
     "iopub.status.busy": "2023-05-10T09:10:58.340448Z",
     "iopub.status.idle": "2023-05-10T09:10:58.351031Z",
     "shell.execute_reply": "2023-05-10T09:10:58.349861Z"
    },
    "papermill": {
     "duration": 0.026957,
     "end_time": "2023-05-10T09:10:58.353359",
     "exception": false,
     "start_time": "2023-05-10T09:10:58.326402",
     "status": "completed"
    },
    "tags": []
   },
   "outputs": [
    {
     "name": "stderr",
     "output_type": "stream",
     "text": [
      "/opt/conda/lib/python3.10/site-packages/sklearn/base.py:439: UserWarning: X does not have valid feature names, but LinearRegression was fitted with feature names\n",
      "  warnings.warn(\n"
     ]
    },
    {
     "data": {
      "text/plain": [
       "array([[30923.30186197]])"
      ]
     },
     "execution_count": 25,
     "metadata": {},
     "output_type": "execute_result"
    }
   ],
   "source": [
    "reg.predict([[2000]])"
   ]
  },
  {
   "cell_type": "code",
   "execution_count": 26,
   "id": "b578a6f5",
   "metadata": {
    "execution": {
     "iopub.execute_input": "2023-05-10T09:10:58.380664Z",
     "iopub.status.busy": "2023-05-10T09:10:58.379855Z",
     "iopub.status.idle": "2023-05-10T09:10:58.385323Z",
     "shell.execute_reply": "2023-05-10T09:10:58.384005Z"
    },
    "papermill": {
     "duration": 0.021647,
     "end_time": "2023-05-10T09:10:58.387475",
     "exception": false,
     "start_time": "2023-05-10T09:10:58.365828",
     "status": "completed"
    },
    "tags": []
   },
   "outputs": [],
   "source": [
    "import warnings\n",
    "warnings.filterwarnings(\"ignore\")"
   ]
  },
  {
   "cell_type": "code",
   "execution_count": 27,
   "id": "9d9061ce",
   "metadata": {
    "execution": {
     "iopub.execute_input": "2023-05-10T09:10:58.415516Z",
     "iopub.status.busy": "2023-05-10T09:10:58.414831Z",
     "iopub.status.idle": "2023-05-10T09:10:58.421279Z",
     "shell.execute_reply": "2023-05-10T09:10:58.420243Z"
    },
    "papermill": {
     "duration": 0.022808,
     "end_time": "2023-05-10T09:10:58.423622",
     "exception": false,
     "start_time": "2023-05-10T09:10:58.400814",
     "status": "completed"
    },
    "tags": []
   },
   "outputs": [
    {
     "data": {
      "text/plain": [
       "array([[30923.30186197]])"
      ]
     },
     "execution_count": 27,
     "metadata": {},
     "output_type": "execute_result"
    }
   ],
   "source": [
    "reg.predict([[2000]])"
   ]
  },
  {
   "cell_type": "code",
   "execution_count": 28,
   "id": "d2179b88",
   "metadata": {
    "execution": {
     "iopub.execute_input": "2023-05-10T09:10:58.451466Z",
     "iopub.status.busy": "2023-05-10T09:10:58.450819Z",
     "iopub.status.idle": "2023-05-10T09:10:58.458827Z",
     "shell.execute_reply": "2023-05-10T09:10:58.457814Z"
    },
    "papermill": {
     "duration": 0.024144,
     "end_time": "2023-05-10T09:10:58.461104",
     "exception": false,
     "start_time": "2023-05-10T09:10:58.436960",
     "status": "completed"
    },
    "tags": []
   },
   "outputs": [
    {
     "data": {
      "text/html": [
       "<div>\n",
       "<style scoped>\n",
       "    .dataframe tbody tr th:only-of-type {\n",
       "        vertical-align: middle;\n",
       "    }\n",
       "\n",
       "    .dataframe tbody tr th {\n",
       "        vertical-align: top;\n",
       "    }\n",
       "\n",
       "    .dataframe thead th {\n",
       "        text-align: right;\n",
       "    }\n",
       "</style>\n",
       "<table border=\"1\" class=\"dataframe\">\n",
       "  <thead>\n",
       "    <tr style=\"text-align: right;\">\n",
       "      <th></th>\n",
       "      <th>rent</th>\n",
       "    </tr>\n",
       "  </thead>\n",
       "  <tbody>\n",
       "    <tr>\n",
       "      <th>37</th>\n",
       "      <td>24000</td>\n",
       "    </tr>\n",
       "    <tr>\n",
       "      <th>19</th>\n",
       "      <td>47000</td>\n",
       "    </tr>\n",
       "    <tr>\n",
       "      <th>39</th>\n",
       "      <td>31500</td>\n",
       "    </tr>\n",
       "    <tr>\n",
       "      <th>10</th>\n",
       "      <td>34500</td>\n",
       "    </tr>\n",
       "    <tr>\n",
       "      <th>27</th>\n",
       "      <td>25000</td>\n",
       "    </tr>\n",
       "  </tbody>\n",
       "</table>\n",
       "</div>"
      ],
      "text/plain": [
       "     rent\n",
       "37  24000\n",
       "19  47000\n",
       "39  31500\n",
       "10  34500\n",
       "27  25000"
      ]
     },
     "execution_count": 28,
     "metadata": {},
     "output_type": "execute_result"
    }
   ],
   "source": [
    "ytest.head()"
   ]
  },
  {
   "cell_type": "code",
   "execution_count": 29,
   "id": "dfe6504d",
   "metadata": {
    "execution": {
     "iopub.execute_input": "2023-05-10T09:10:58.489416Z",
     "iopub.status.busy": "2023-05-10T09:10:58.488757Z",
     "iopub.status.idle": "2023-05-10T09:10:58.496766Z",
     "shell.execute_reply": "2023-05-10T09:10:58.495657Z"
    },
    "papermill": {
     "duration": 0.024644,
     "end_time": "2023-05-10T09:10:58.498736",
     "exception": false,
     "start_time": "2023-05-10T09:10:58.474092",
     "status": "completed"
    },
    "tags": []
   },
   "outputs": [
    {
     "data": {
      "text/plain": [
       "array([[27664.77219533],\n",
       "       [46129.77363963],\n",
       "       [33095.65497306],\n",
       "       [34181.83152861],\n",
       "       [26578.59563978],\n",
       "       [28750.94875087],\n",
       "       [26578.59563978],\n",
       "       [33095.65497306],\n",
       "       [21147.71286204],\n",
       "       [13544.47697321],\n",
       "       [33312.89028417],\n",
       "       [41785.06741744]])"
      ]
     },
     "execution_count": 29,
     "metadata": {},
     "output_type": "execute_result"
    }
   ],
   "source": [
    "ypred=reg.predict(xtest)\n",
    "ypred"
   ]
  },
  {
   "cell_type": "code",
   "execution_count": 30,
   "id": "1d4b83e3",
   "metadata": {
    "execution": {
     "iopub.execute_input": "2023-05-10T09:10:58.527016Z",
     "iopub.status.busy": "2023-05-10T09:10:58.526358Z",
     "iopub.status.idle": "2023-05-10T09:10:58.530898Z",
     "shell.execute_reply": "2023-05-10T09:10:58.529886Z"
    },
    "papermill": {
     "duration": 0.021416,
     "end_time": "2023-05-10T09:10:58.533312",
     "exception": false,
     "start_time": "2023-05-10T09:10:58.511896",
     "status": "completed"
    },
    "tags": []
   },
   "outputs": [],
   "source": [
    "from sklearn.metrics import mean_squared_error"
   ]
  },
  {
   "cell_type": "code",
   "execution_count": 31,
   "id": "89930f99",
   "metadata": {
    "execution": {
     "iopub.execute_input": "2023-05-10T09:10:58.561774Z",
     "iopub.status.busy": "2023-05-10T09:10:58.561376Z",
     "iopub.status.idle": "2023-05-10T09:10:58.569110Z",
     "shell.execute_reply": "2023-05-10T09:10:58.568095Z"
    },
    "papermill": {
     "duration": 0.025088,
     "end_time": "2023-05-10T09:10:58.571324",
     "exception": false,
     "start_time": "2023-05-10T09:10:58.546236",
     "status": "completed"
    },
    "tags": []
   },
   "outputs": [
    {
     "data": {
      "text/plain": [
       "6669155.69805635"
      ]
     },
     "execution_count": 31,
     "metadata": {},
     "output_type": "execute_result"
    }
   ],
   "source": [
    "mse= mean_squared_error(ytest,ypred)\n",
    "mse"
   ]
  },
  {
   "cell_type": "code",
   "execution_count": 32,
   "id": "100e2a1c",
   "metadata": {
    "execution": {
     "iopub.execute_input": "2023-05-10T09:10:58.599821Z",
     "iopub.status.busy": "2023-05-10T09:10:58.599341Z",
     "iopub.status.idle": "2023-05-10T09:10:58.604420Z",
     "shell.execute_reply": "2023-05-10T09:10:58.603256Z"
    },
    "papermill": {
     "duration": 0.021942,
     "end_time": "2023-05-10T09:10:58.606735",
     "exception": false,
     "start_time": "2023-05-10T09:10:58.584793",
     "status": "completed"
    },
    "tags": []
   },
   "outputs": [],
   "source": [
    "from sklearn.metrics import mean_absolute_error"
   ]
  },
  {
   "cell_type": "code",
   "execution_count": 33,
   "id": "7e8b3108",
   "metadata": {
    "execution": {
     "iopub.execute_input": "2023-05-10T09:10:58.635868Z",
     "iopub.status.busy": "2023-05-10T09:10:58.635075Z",
     "iopub.status.idle": "2023-05-10T09:10:58.643969Z",
     "shell.execute_reply": "2023-05-10T09:10:58.642747Z"
    },
    "papermill": {
     "duration": 0.025695,
     "end_time": "2023-05-10T09:10:58.646329",
     "exception": false,
     "start_time": "2023-05-10T09:10:58.620634",
     "status": "completed"
    },
    "tags": []
   },
   "outputs": [
    {
     "data": {
      "text/plain": [
       "1888.3835955177726"
      ]
     },
     "execution_count": 33,
     "metadata": {},
     "output_type": "execute_result"
    }
   ],
   "source": [
    "mae= mean_absolute_error(ytest,ypred)\n",
    "mae"
   ]
  },
  {
   "cell_type": "code",
   "execution_count": 34,
   "id": "cf904a72",
   "metadata": {
    "execution": {
     "iopub.execute_input": "2023-05-10T09:10:58.674819Z",
     "iopub.status.busy": "2023-05-10T09:10:58.674195Z",
     "iopub.status.idle": "2023-05-10T09:10:58.680790Z",
     "shell.execute_reply": "2023-05-10T09:10:58.679732Z"
    },
    "papermill": {
     "duration": 0.023406,
     "end_time": "2023-05-10T09:10:58.682913",
     "exception": false,
     "start_time": "2023-05-10T09:10:58.659507",
     "status": "completed"
    },
    "tags": []
   },
   "outputs": [
    {
     "data": {
      "text/plain": [
       "array([[21.72353111]])"
      ]
     },
     "execution_count": 34,
     "metadata": {},
     "output_type": "execute_result"
    }
   ],
   "source": [
    "m= reg.coef_\n",
    "m"
   ]
  },
  {
   "cell_type": "code",
   "execution_count": 35,
   "id": "a32b03d1",
   "metadata": {
    "execution": {
     "iopub.execute_input": "2023-05-10T09:10:58.712638Z",
     "iopub.status.busy": "2023-05-10T09:10:58.711609Z",
     "iopub.status.idle": "2023-05-10T09:10:58.717938Z",
     "shell.execute_reply": "2023-05-10T09:10:58.717092Z"
    },
    "papermill": {
     "duration": 0.023644,
     "end_time": "2023-05-10T09:10:58.720070",
     "exception": false,
     "start_time": "2023-05-10T09:10:58.696426",
     "status": "completed"
    },
    "tags": []
   },
   "outputs": [
    {
     "data": {
      "text/plain": [
       "array([-12523.76035993])"
      ]
     },
     "execution_count": 35,
     "metadata": {},
     "output_type": "execute_result"
    }
   ],
   "source": [
    "c=reg.intercept_\n",
    "c"
   ]
  },
  {
   "cell_type": "code",
   "execution_count": 36,
   "id": "8bf456c8",
   "metadata": {
    "execution": {
     "iopub.execute_input": "2023-05-10T09:10:58.749864Z",
     "iopub.status.busy": "2023-05-10T09:10:58.749147Z",
     "iopub.status.idle": "2023-05-10T09:10:58.755312Z",
     "shell.execute_reply": "2023-05-10T09:10:58.754239Z"
    },
    "papermill": {
     "duration": 0.023136,
     "end_time": "2023-05-10T09:10:58.757572",
     "exception": false,
     "start_time": "2023-05-10T09:10:58.734436",
     "status": "completed"
    },
    "tags": []
   },
   "outputs": [
    {
     "data": {
      "text/plain": [
       "array([[30923.30186197]])"
      ]
     },
     "execution_count": 36,
     "metadata": {},
     "output_type": "execute_result"
    }
   ],
   "source": [
    "#y=(m*x)+c\n",
    "result=m*2000+c\n",
    "result"
   ]
  },
  {
   "cell_type": "code",
   "execution_count": 37,
   "id": "01874d6d",
   "metadata": {
    "execution": {
     "iopub.execute_input": "2023-05-10T09:10:58.786524Z",
     "iopub.status.busy": "2023-05-10T09:10:58.785783Z",
     "iopub.status.idle": "2023-05-10T09:10:58.792137Z",
     "shell.execute_reply": "2023-05-10T09:10:58.791249Z"
    },
    "papermill": {
     "duration": 0.023182,
     "end_time": "2023-05-10T09:10:58.794138",
     "exception": false,
     "start_time": "2023-05-10T09:10:58.770956",
     "status": "completed"
    },
    "tags": []
   },
   "outputs": [
    {
     "data": {
      "text/plain": [
       "array([[30923.30186197]])"
      ]
     },
     "execution_count": 37,
     "metadata": {},
     "output_type": "execute_result"
    }
   ],
   "source": [
    "reg.predict([[2000]])"
   ]
  },
  {
   "cell_type": "code",
   "execution_count": 38,
   "id": "d23b3d8b",
   "metadata": {
    "execution": {
     "iopub.execute_input": "2023-05-10T09:10:58.822883Z",
     "iopub.status.busy": "2023-05-10T09:10:58.822205Z",
     "iopub.status.idle": "2023-05-10T09:10:59.051849Z",
     "shell.execute_reply": "2023-05-10T09:10:59.050558Z"
    },
    "papermill": {
     "duration": 0.247009,
     "end_time": "2023-05-10T09:10:59.054439",
     "exception": false,
     "start_time": "2023-05-10T09:10:58.807430",
     "status": "completed"
    },
    "tags": []
   },
   "outputs": [
    {
     "data": {
      "text/plain": [
       "[<matplotlib.lines.Line2D at 0x7d5b27ae1c60>]"
      ]
     },
     "execution_count": 38,
     "metadata": {},
     "output_type": "execute_result"
    },
    {
     "data": {
      "image/png": "[encoded data removed]",
      "text/plain": [
       "<Figure size 640x480 with 1 Axes>"
      ]
     },
     "metadata": {},
     "output_type": "display_data"
    }
   ],
   "source": [
    "#best fit line\n",
    "plt.plot(xtest,reg.predict(xtest))"
   ]
  },
  {
   "cell_type": "code",
   "execution_count": 39,
   "id": "8a1f574e",
   "metadata": {
    "execution": {
     "iopub.execute_input": "2023-05-10T09:10:59.084526Z",
     "iopub.status.busy": "2023-05-10T09:10:59.084086Z",
     "iopub.status.idle": "2023-05-10T09:10:59.354012Z",
     "shell.execute_reply": "2023-05-10T09:10:59.352848Z"
    },
    "papermill": {
     "duration": 0.287891,
     "end_time": "2023-05-10T09:10:59.356522",
     "exception": false,
     "start_time": "2023-05-10T09:10:59.068631",
     "status": "completed"
    },
    "tags": []
   },
   "outputs": [
    {
     "data": {
      "text/plain": [
       "[<matplotlib.lines.Line2D at 0x7d5b278b7c10>]"
      ]
     },
     "execution_count": 39,
     "metadata": {},
     "output_type": "execute_result"
    },
    {
     "data": {
      "image/png": "[encoded data removed]",
      "text/plain": [
       "<Figure size 640x480 with 1 Axes>"
      ]
     },
     "metadata": {},
     "output_type": "display_data"
    }
   ],
   "source": [
    "plt.scatter(df[\"area\"],df[\"rent\"],color=\"red\",marker=\"+\")\n",
    "plt.xlabel(\"Area in Square Feet\",color=\"red\")\n",
    "plt.ylabel(\"Rent in BDT\",color=\"red\")\n",
    "plt.title(\"Rent Plot\", color=\"green\")\n",
    "plt.plot(df.area,reg.predict(df[[\"area\"]]),color=\"green\") #for whole data"
   ]
  }
 ],
 "metadata": {
  "kernelspec": {
   "display_name": "Python 3",
   "language": "python",
   "name": "python3"
  },
  "language_info": {
   "codemirror_mode": {
    "name": "ipython",
    "version": 3
   },
   "file_extension": ".py",
   "mimetype": "text/x-python",
   "name": "python",
   "nbconvert_exporter": "python",
   "pygments_lexer": "ipython3",
   "version": "3.10.10"
  },
  "papermill": {
   "default_parameters": {},
   "duration": 16.092114,
   "end_time": "2023-05-10T09:11:00.398795",
   "environment_variables": {},
   "exception": null,
   "input_path": "__notebook__.ipynb",
   "output_path": "__notebook__.ipynb",
   "parameters": {},
   "start_time": "2023-05-10T09:10:44.306681",
   "version": "2.4.0"
  }
 },
 "nbformat": 4,
 "nbformat_minor": 5
}
