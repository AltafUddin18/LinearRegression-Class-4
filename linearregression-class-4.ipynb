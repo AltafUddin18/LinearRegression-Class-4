{
 "cells": [
  {
   "cell_type": "markdown",
   "id": "89633591",
   "metadata": {
    "papermill": {
     "duration": 0.01839,
     "end_time": "2023-05-10T13:32:38.489009",
     "exception": false,
     "start_time": "2023-05-10T13:32:38.470619",
     "status": "completed"
    },
    "tags": []
   },
   "source": [
    "# Class 4"
   ]
  },
  {
   "cell_type": "code",
   "execution_count": 1,
   "id": "812cb720",
   "metadata": {
    "execution": {
     "iopub.execute_input": "2023-05-10T13:32:38.522305Z",
     "iopub.status.busy": "2023-05-10T13:32:38.521537Z",
     "iopub.status.idle": "2023-05-10T13:32:40.055953Z",
     "shell.execute_reply": "2023-05-10T13:32:40.054783Z"
    },
    "papermill": {
     "duration": 1.554765,
     "end_time": "2023-05-10T13:32:40.058985",
     "exception": false,
     "start_time": "2023-05-10T13:32:38.504220",
     "status": "completed"
    },
    "tags": []
   },
   "outputs": [
    {
     "name": "stderr",
     "output_type": "stream",
     "text": [
      "/opt/conda/lib/python3.10/site-packages/scipy/__init__.py:146: UserWarning: A NumPy version >=1.16.5 and <1.23.0 is required for this version of SciPy (detected version 1.23.5\n",
      "  warnings.warn(f\"A NumPy version >={np_minversion} and <{np_maxversion}\"\n"
     ]
    }
   ],
   "source": [
    "import pandas as pd\n",
    "import numpy as np\n",
    "import seaborn as sns \n",
    "from matplotlib import pyplot as plt"
   ]
  },
  {
   "cell_type": "code",
   "execution_count": 2,
   "id": "0e879c8f",
   "metadata": {
    "execution": {
     "iopub.execute_input": "2023-05-10T13:32:40.092234Z",
     "iopub.status.busy": "2023-05-10T13:32:40.091463Z",
     "iopub.status.idle": "2023-05-10T13:32:40.115590Z",
     "shell.execute_reply": "2023-05-10T13:32:40.114451Z"
    },
    "papermill": {
     "duration": 0.044255,
     "end_time": "2023-05-10T13:32:40.118571",
     "exception": false,
     "start_time": "2023-05-10T13:32:40.074316",
     "status": "completed"
    },
    "tags": []
   },
   "outputs": [],
   "source": [
    "df = pd.read_csv(\"/kaggle/input/dhakarent/DhakaRent.csv\")"
   ]
  },
  {
   "cell_type": "code",
   "execution_count": 3,
   "id": "1a6699a1",
   "metadata": {
    "execution": {
     "iopub.execute_input": "2023-05-10T13:32:40.151972Z",
     "iopub.status.busy": "2023-05-10T13:32:40.151261Z",
     "iopub.status.idle": "2023-05-10T13:32:40.181967Z",
     "shell.execute_reply": "2023-05-10T13:32:40.180828Z"
    },
    "papermill": {
     "duration": 0.050839,
     "end_time": "2023-05-10T13:32:40.184690",
     "exception": false,
     "start_time": "2023-05-10T13:32:40.133851",
     "status": "completed"
    },
    "tags": []
   },
   "outputs": [
    {
     "data": {
      "text/html": [
       "<div>\n",
       "<style scoped>\n",
       "    .dataframe tbody tr th:only-of-type {\n",
       "        vertical-align: middle;\n",
       "    }\n",
       "\n",
       "    .dataframe tbody tr th {\n",
       "        vertical-align: top;\n",
       "    }\n",
       "\n",
       "    .dataframe thead th {\n",
       "        text-align: right;\n",
       "    }\n",
       "</style>\n",
       "<table border=\"1\" class=\"dataframe\">\n",
       "  <thead>\n",
       "    <tr style=\"text-align: right;\">\n",
       "      <th></th>\n",
       "      <th>area</th>\n",
       "      <th>rent</th>\n",
       "    </tr>\n",
       "  </thead>\n",
       "  <tbody>\n",
       "    <tr>\n",
       "      <th>0</th>\n",
       "      <td>2000</td>\n",
       "      <td>31500</td>\n",
       "    </tr>\n",
       "    <tr>\n",
       "      <th>1</th>\n",
       "      <td>2100</td>\n",
       "      <td>35000</td>\n",
       "    </tr>\n",
       "    <tr>\n",
       "      <th>2</th>\n",
       "      <td>2500</td>\n",
       "      <td>41050</td>\n",
       "    </tr>\n",
       "    <tr>\n",
       "      <th>3</th>\n",
       "      <td>2250</td>\n",
       "      <td>36100</td>\n",
       "    </tr>\n",
       "    <tr>\n",
       "      <th>4</th>\n",
       "      <td>3000</td>\n",
       "      <td>52100</td>\n",
       "    </tr>\n",
       "  </tbody>\n",
       "</table>\n",
       "</div>"
      ],
      "text/plain": [
       "   area   rent\n",
       "0  2000  31500\n",
       "1  2100  35000\n",
       "2  2500  41050\n",
       "3  2250  36100\n",
       "4  3000  52100"
      ]
     },
     "execution_count": 3,
     "metadata": {},
     "output_type": "execute_result"
    }
   ],
   "source": [
    "df.head()"
   ]
  },
  {
   "cell_type": "code",
   "execution_count": 4,
   "id": "9d9e633c",
   "metadata": {
    "execution": {
     "iopub.execute_input": "2023-05-10T13:32:40.218700Z",
     "iopub.status.busy": "2023-05-10T13:32:40.217931Z",
     "iopub.status.idle": "2023-05-10T13:32:40.228070Z",
     "shell.execute_reply": "2023-05-10T13:32:40.226951Z"
    },
    "papermill": {
     "duration": 0.030115,
     "end_time": "2023-05-10T13:32:40.230625",
     "exception": false,
     "start_time": "2023-05-10T13:32:40.200510",
     "status": "completed"
    },
    "tags": []
   },
   "outputs": [
    {
     "data": {
      "text/html": [
       "<div>\n",
       "<style scoped>\n",
       "    .dataframe tbody tr th:only-of-type {\n",
       "        vertical-align: middle;\n",
       "    }\n",
       "\n",
       "    .dataframe tbody tr th {\n",
       "        vertical-align: top;\n",
       "    }\n",
       "\n",
       "    .dataframe thead th {\n",
       "        text-align: right;\n",
       "    }\n",
       "</style>\n",
       "<table border=\"1\" class=\"dataframe\">\n",
       "  <thead>\n",
       "    <tr style=\"text-align: right;\">\n",
       "      <th></th>\n",
       "      <th>area</th>\n",
       "      <th>rent</th>\n",
       "    </tr>\n",
       "  </thead>\n",
       "  <tbody>\n",
       "    <tr>\n",
       "      <th>35</th>\n",
       "      <td>1900</td>\n",
       "      <td>32300</td>\n",
       "    </tr>\n",
       "    <tr>\n",
       "      <th>36</th>\n",
       "      <td>1500</td>\n",
       "      <td>20200</td>\n",
       "    </tr>\n",
       "    <tr>\n",
       "      <th>37</th>\n",
       "      <td>1850</td>\n",
       "      <td>24000</td>\n",
       "    </tr>\n",
       "    <tr>\n",
       "      <th>38</th>\n",
       "      <td>2700</td>\n",
       "      <td>47500</td>\n",
       "    </tr>\n",
       "    <tr>\n",
       "      <th>39</th>\n",
       "      <td>2100</td>\n",
       "      <td>31500</td>\n",
       "    </tr>\n",
       "  </tbody>\n",
       "</table>\n",
       "</div>"
      ],
      "text/plain": [
       "    area   rent\n",
       "35  1900  32300\n",
       "36  1500  20200\n",
       "37  1850  24000\n",
       "38  2700  47500\n",
       "39  2100  31500"
      ]
     },
     "execution_count": 4,
     "metadata": {},
     "output_type": "execute_result"
    }
   ],
   "source": [
    "df.tail()"
   ]
  },
  {
   "cell_type": "code",
   "execution_count": 5,
   "id": "5870e4bf",
   "metadata": {
    "execution": {
     "iopub.execute_input": "2023-05-10T13:32:40.264044Z",
     "iopub.status.busy": "2023-05-10T13:32:40.263575Z",
     "iopub.status.idle": "2023-05-10T13:32:40.294199Z",
     "shell.execute_reply": "2023-05-10T13:32:40.292813Z"
    },
    "papermill": {
     "duration": 0.050991,
     "end_time": "2023-05-10T13:32:40.297343",
     "exception": false,
     "start_time": "2023-05-10T13:32:40.246352",
     "status": "completed"
    },
    "tags": []
   },
   "outputs": [
    {
     "name": "stdout",
     "output_type": "stream",
     "text": [
      "<class 'pandas.core.frame.DataFrame'>\n",
      "RangeIndex: 40 entries, 0 to 39\n",
      "Data columns (total 2 columns):\n",
      " #   Column  Non-Null Count  Dtype\n",
      "---  ------  --------------  -----\n",
      " 0   area    40 non-null     int64\n",
      " 1   rent    40 non-null     int64\n",
      "dtypes: int64(2)\n",
      "memory usage: 768.0 bytes\n"
     ]
    }
   ],
   "source": [
    " df.info()"
   ]
  },
  {
   "cell_type": "code",
   "execution_count": 6,
   "id": "b4151e70",
   "metadata": {
    "execution": {
     "iopub.execute_input": "2023-05-10T13:32:40.334033Z",
     "iopub.status.busy": "2023-05-10T13:32:40.332726Z",
     "iopub.status.idle": "2023-05-10T13:32:40.341261Z",
     "shell.execute_reply": "2023-05-10T13:32:40.339902Z"
    },
    "papermill": {
     "duration": 0.029948,
     "end_time": "2023-05-10T13:32:40.343852",
     "exception": false,
     "start_time": "2023-05-10T13:32:40.313904",
     "status": "completed"
    },
    "tags": []
   },
   "outputs": [
    {
     "data": {
      "text/plain": [
       "(40, 2)"
      ]
     },
     "execution_count": 6,
     "metadata": {},
     "output_type": "execute_result"
    }
   ],
   "source": [
    "df.shape"
   ]
  },
  {
   "cell_type": "code",
   "execution_count": 7,
   "id": "a04b1ebe",
   "metadata": {
    "execution": {
     "iopub.execute_input": "2023-05-10T13:32:40.379596Z",
     "iopub.status.busy": "2023-05-10T13:32:40.378631Z",
     "iopub.status.idle": "2023-05-10T13:32:40.613419Z",
     "shell.execute_reply": "2023-05-10T13:32:40.612422Z"
    },
    "papermill": {
     "duration": 0.255406,
     "end_time": "2023-05-10T13:32:40.616032",
     "exception": false,
     "start_time": "2023-05-10T13:32:40.360626",
     "status": "completed"
    },
    "tags": []
   },
   "outputs": [
    {
     "data": {
      "text/plain": [
       "<matplotlib.collections.PathCollection at 0x7acb14725a50>"
      ]
     },
     "execution_count": 7,
     "metadata": {},
     "output_type": "execute_result"
    },
    {
     "data": {
      "image/png": "[encoded data removed]",
      "text/plain": [
       "<Figure size 640x480 with 1 Axes>"
      ]
     },
     "metadata": {},
     "output_type": "display_data"
    }
   ],
   "source": [
    "plt.scatter(df[\"area\"],df[\"rent\"])"
   ]
  },
  {
   "cell_type": "code",
   "execution_count": 8,
   "id": "471079ff",
   "metadata": {
    "execution": {
     "iopub.execute_input": "2023-05-10T13:32:40.651936Z",
     "iopub.status.busy": "2023-05-10T13:32:40.651191Z",
     "iopub.status.idle": "2023-05-10T13:32:40.830566Z",
     "shell.execute_reply": "2023-05-10T13:32:40.829444Z"
    },
    "papermill": {
     "duration": 0.200822,
     "end_time": "2023-05-10T13:32:40.833351",
     "exception": false,
     "start_time": "2023-05-10T13:32:40.632529",
     "status": "completed"
    },
    "tags": []
   },
   "outputs": [
    {
     "data": {
      "text/plain": [
       "<matplotlib.collections.PathCollection at 0x7acb14b33040>"
      ]
     },
     "execution_count": 8,
     "metadata": {},
     "output_type": "execute_result"
    },
    {
     "data": {
      "image/png": "[encoded data removed]",
      "text/plain": [
       "<Figure size 640x480 with 1 Axes>"
      ]
     },
     "metadata": {},
     "output_type": "display_data"
    }
   ],
   "source": [
    "plt.scatter(df[\"area\"],df[\"rent\"],color=\"red\",marker=\"+\")"
   ]
  },
  {
   "cell_type": "code",
   "execution_count": 9,
   "id": "3f03b5c4",
   "metadata": {
    "execution": {
     "iopub.execute_input": "2023-05-10T13:32:40.869918Z",
     "iopub.status.busy": "2023-05-10T13:32:40.869005Z",
     "iopub.status.idle": "2023-05-10T13:32:41.112003Z",
     "shell.execute_reply": "2023-05-10T13:32:41.110621Z"
    },
    "papermill": {
     "duration": 0.264436,
     "end_time": "2023-05-10T13:32:41.114924",
     "exception": false,
     "start_time": "2023-05-10T13:32:40.850488",
     "status": "completed"
    },
    "scrolled": true,
    "tags": []
   },
   "outputs": [
    {
     "data": {
      "text/plain": [
       "Text(0.5, 1.0, 'Rent Plot')"
      ]
     },
     "execution_count": 9,
     "metadata": {},
     "output_type": "execute_result"
    },
    {
     "data": {
      "image/png": "[encoded data removed]",
      "text/plain": [
       "<Figure size 640x480 with 1 Axes>"
      ]
     },
     "metadata": {},
     "output_type": "display_data"
    }
   ],
   "source": [
    "plt.scatter(df[\"area\"],df[\"rent\"],color=\"red\",marker=\"+\")\n",
    "plt.xlabel(\"Area in Square Feet\",color=\"red\")\n",
    "plt.ylabel(\"Rent in BDT\",color=\"red\")\n",
    "plt.title(\"Rent Plot\", color=\"green\")"
   ]
  },
  {
   "cell_type": "code",
   "execution_count": 10,
   "id": "eefe70fe",
   "metadata": {
    "execution": {
     "iopub.execute_input": "2023-05-10T13:32:41.153679Z",
     "iopub.status.busy": "2023-05-10T13:32:41.153185Z",
     "iopub.status.idle": "2023-05-10T13:32:41.161656Z",
     "shell.execute_reply": "2023-05-10T13:32:41.160518Z"
    },
    "papermill": {
     "duration": 0.030667,
     "end_time": "2023-05-10T13:32:41.164034",
     "exception": false,
     "start_time": "2023-05-10T13:32:41.133367",
     "status": "completed"
    },
    "tags": []
   },
   "outputs": [
    {
     "data": {
      "text/plain": [
       "2265.5"
      ]
     },
     "execution_count": 10,
     "metadata": {},
     "output_type": "execute_result"
    }
   ],
   "source": [
    "df.area.mean()"
   ]
  },
  {
   "cell_type": "code",
   "execution_count": 11,
   "id": "62c5fde3",
   "metadata": {
    "execution": {
     "iopub.execute_input": "2023-05-10T13:32:41.201695Z",
     "iopub.status.busy": "2023-05-10T13:32:41.201209Z",
     "iopub.status.idle": "2023-05-10T13:32:41.210075Z",
     "shell.execute_reply": "2023-05-10T13:32:41.208930Z"
    },
    "papermill": {
     "duration": 0.030819,
     "end_time": "2023-05-10T13:32:41.212549",
     "exception": false,
     "start_time": "2023-05-10T13:32:41.181730",
     "status": "completed"
    },
    "tags": []
   },
   "outputs": [
    {
     "data": {
      "text/plain": [
       "36704.25"
      ]
     },
     "execution_count": 11,
     "metadata": {},
     "output_type": "execute_result"
    }
   ],
   "source": [
    "df.rent.mean()"
   ]
  },
  {
   "cell_type": "markdown",
   "id": "6dbd8e99",
   "metadata": {
    "papermill": {
     "duration": 0.017588,
     "end_time": "2023-05-10T13:32:41.248156",
     "exception": false,
     "start_time": "2023-05-10T13:32:41.230568",
     "status": "completed"
    },
    "tags": []
   },
   "source": [
    "## Seperate dependent and independent variable"
   ]
  },
  {
   "cell_type": "code",
   "execution_count": 12,
   "id": "520ac46f",
   "metadata": {
    "execution": {
     "iopub.execute_input": "2023-05-10T13:32:41.286478Z",
     "iopub.status.busy": "2023-05-10T13:32:41.286007Z",
     "iopub.status.idle": "2023-05-10T13:32:41.297005Z",
     "shell.execute_reply": "2023-05-10T13:32:41.295799Z"
    },
    "papermill": {
     "duration": 0.033381,
     "end_time": "2023-05-10T13:32:41.299370",
     "exception": false,
     "start_time": "2023-05-10T13:32:41.265989",
     "status": "completed"
    },
    "tags": []
   },
   "outputs": [
    {
     "data": {
      "text/html": [
       "<div>\n",
       "<style scoped>\n",
       "    .dataframe tbody tr th:only-of-type {\n",
       "        vertical-align: middle;\n",
       "    }\n",
       "\n",
       "    .dataframe tbody tr th {\n",
       "        vertical-align: top;\n",
       "    }\n",
       "\n",
       "    .dataframe thead th {\n",
       "        text-align: right;\n",
       "    }\n",
       "</style>\n",
       "<table border=\"1\" class=\"dataframe\">\n",
       "  <thead>\n",
       "    <tr style=\"text-align: right;\">\n",
       "      <th></th>\n",
       "      <th>area</th>\n",
       "      <th>rent</th>\n",
       "    </tr>\n",
       "  </thead>\n",
       "  <tbody>\n",
       "    <tr>\n",
       "      <th>0</th>\n",
       "      <td>2000</td>\n",
       "      <td>31500</td>\n",
       "    </tr>\n",
       "    <tr>\n",
       "      <th>1</th>\n",
       "      <td>2100</td>\n",
       "      <td>35000</td>\n",
       "    </tr>\n",
       "    <tr>\n",
       "      <th>2</th>\n",
       "      <td>2500</td>\n",
       "      <td>41050</td>\n",
       "    </tr>\n",
       "    <tr>\n",
       "      <th>3</th>\n",
       "      <td>2250</td>\n",
       "      <td>36100</td>\n",
       "    </tr>\n",
       "    <tr>\n",
       "      <th>4</th>\n",
       "      <td>3000</td>\n",
       "      <td>52100</td>\n",
       "    </tr>\n",
       "  </tbody>\n",
       "</table>\n",
       "</div>"
      ],
      "text/plain": [
       "   area   rent\n",
       "0  2000  31500\n",
       "1  2100  35000\n",
       "2  2500  41050\n",
       "3  2250  36100\n",
       "4  3000  52100"
      ]
     },
     "execution_count": 12,
     "metadata": {},
     "output_type": "execute_result"
    }
   ],
   "source": [
    "df.head()"
   ]
  },
  {
   "cell_type": "code",
   "execution_count": 13,
   "id": "e56e4b15",
   "metadata": {
    "execution": {
     "iopub.execute_input": "2023-05-10T13:32:41.338213Z",
     "iopub.status.busy": "2023-05-10T13:32:41.337688Z",
     "iopub.status.idle": "2023-05-10T13:32:41.346233Z",
     "shell.execute_reply": "2023-05-10T13:32:41.344931Z"
    },
    "papermill": {
     "duration": 0.03105,
     "end_time": "2023-05-10T13:32:41.348757",
     "exception": false,
     "start_time": "2023-05-10T13:32:41.317707",
     "status": "completed"
    },
    "tags": []
   },
   "outputs": [],
   "source": [
    "x=df[[\"area\"]]"
   ]
  },
  {
   "cell_type": "code",
   "execution_count": 14,
   "id": "77e5d399",
   "metadata": {
    "execution": {
     "iopub.execute_input": "2023-05-10T13:32:41.387016Z",
     "iopub.status.busy": "2023-05-10T13:32:41.386559Z",
     "iopub.status.idle": "2023-05-10T13:32:41.393908Z",
     "shell.execute_reply": "2023-05-10T13:32:41.392519Z"
    },
    "papermill": {
     "duration": 0.029608,
     "end_time": "2023-05-10T13:32:41.396495",
     "exception": false,
     "start_time": "2023-05-10T13:32:41.366887",
     "status": "completed"
    },
    "tags": []
   },
   "outputs": [],
   "source": [
    "y=df[[\"rent\"]]"
   ]
  },
  {
   "cell_type": "code",
   "execution_count": 15,
   "id": "00a6b9ed",
   "metadata": {
    "execution": {
     "iopub.execute_input": "2023-05-10T13:32:41.436361Z",
     "iopub.status.busy": "2023-05-10T13:32:41.435803Z",
     "iopub.status.idle": "2023-05-10T13:32:41.447307Z",
     "shell.execute_reply": "2023-05-10T13:32:41.446059Z"
    },
    "papermill": {
     "duration": 0.034446,
     "end_time": "2023-05-10T13:32:41.449614",
     "exception": false,
     "start_time": "2023-05-10T13:32:41.415168",
     "status": "completed"
    },
    "tags": []
   },
   "outputs": [
    {
     "data": {
      "text/html": [
       "<div>\n",
       "<style scoped>\n",
       "    .dataframe tbody tr th:only-of-type {\n",
       "        vertical-align: middle;\n",
       "    }\n",
       "\n",
       "    .dataframe tbody tr th {\n",
       "        vertical-align: top;\n",
       "    }\n",
       "\n",
       "    .dataframe thead th {\n",
       "        text-align: right;\n",
       "    }\n",
       "</style>\n",
       "<table border=\"1\" class=\"dataframe\">\n",
       "  <thead>\n",
       "    <tr style=\"text-align: right;\">\n",
       "      <th></th>\n",
       "      <th>area</th>\n",
       "    </tr>\n",
       "  </thead>\n",
       "  <tbody>\n",
       "    <tr>\n",
       "      <th>0</th>\n",
       "      <td>2000</td>\n",
       "    </tr>\n",
       "    <tr>\n",
       "      <th>1</th>\n",
       "      <td>2100</td>\n",
       "    </tr>\n",
       "    <tr>\n",
       "      <th>2</th>\n",
       "      <td>2500</td>\n",
       "    </tr>\n",
       "    <tr>\n",
       "      <th>3</th>\n",
       "      <td>2250</td>\n",
       "    </tr>\n",
       "    <tr>\n",
       "      <th>4</th>\n",
       "      <td>3000</td>\n",
       "    </tr>\n",
       "  </tbody>\n",
       "</table>\n",
       "</div>"
      ],
      "text/plain": [
       "   area\n",
       "0  2000\n",
       "1  2100\n",
       "2  2500\n",
       "3  2250\n",
       "4  3000"
      ]
     },
     "execution_count": 15,
     "metadata": {},
     "output_type": "execute_result"
    }
   ],
   "source": [
    "x.head()"
   ]
  },
  {
   "cell_type": "code",
   "execution_count": 16,
   "id": "31c57b99",
   "metadata": {
    "execution": {
     "iopub.execute_input": "2023-05-10T13:32:41.489121Z",
     "iopub.status.busy": "2023-05-10T13:32:41.488600Z",
     "iopub.status.idle": "2023-05-10T13:32:41.499972Z",
     "shell.execute_reply": "2023-05-10T13:32:41.498724Z"
    },
    "papermill": {
     "duration": 0.034022,
     "end_time": "2023-05-10T13:32:41.502503",
     "exception": false,
     "start_time": "2023-05-10T13:32:41.468481",
     "status": "completed"
    },
    "tags": []
   },
   "outputs": [
    {
     "data": {
      "text/html": [
       "<div>\n",
       "<style scoped>\n",
       "    .dataframe tbody tr th:only-of-type {\n",
       "        vertical-align: middle;\n",
       "    }\n",
       "\n",
       "    .dataframe tbody tr th {\n",
       "        vertical-align: top;\n",
       "    }\n",
       "\n",
       "    .dataframe thead th {\n",
       "        text-align: right;\n",
       "    }\n",
       "</style>\n",
       "<table border=\"1\" class=\"dataframe\">\n",
       "  <thead>\n",
       "    <tr style=\"text-align: right;\">\n",
       "      <th></th>\n",
       "      <th>rent</th>\n",
       "    </tr>\n",
       "  </thead>\n",
       "  <tbody>\n",
       "    <tr>\n",
       "      <th>0</th>\n",
       "      <td>31500</td>\n",
       "    </tr>\n",
       "    <tr>\n",
       "      <th>1</th>\n",
       "      <td>35000</td>\n",
       "    </tr>\n",
       "    <tr>\n",
       "      <th>2</th>\n",
       "      <td>41050</td>\n",
       "    </tr>\n",
       "    <tr>\n",
       "      <th>3</th>\n",
       "      <td>36100</td>\n",
       "    </tr>\n",
       "    <tr>\n",
       "      <th>4</th>\n",
       "      <td>52100</td>\n",
       "    </tr>\n",
       "  </tbody>\n",
       "</table>\n",
       "</div>"
      ],
      "text/plain": [
       "    rent\n",
       "0  31500\n",
       "1  35000\n",
       "2  41050\n",
       "3  36100\n",
       "4  52100"
      ]
     },
     "execution_count": 16,
     "metadata": {},
     "output_type": "execute_result"
    }
   ],
   "source": [
    "y.head()"
   ]
  },
  {
   "cell_type": "markdown",
   "id": "e6f99e8c",
   "metadata": {
    "papermill": {
     "duration": 0.020006,
     "end_time": "2023-05-10T13:32:41.540956",
     "exception": false,
     "start_time": "2023-05-10T13:32:41.520950",
     "status": "completed"
    },
    "tags": []
   },
   "source": [
    "## split the database"
   ]
  },
  {
   "cell_type": "code",
   "execution_count": 17,
   "id": "1ec1e460",
   "metadata": {
    "execution": {
     "iopub.execute_input": "2023-05-10T13:32:41.580818Z",
     "iopub.status.busy": "2023-05-10T13:32:41.580298Z",
     "iopub.status.idle": "2023-05-10T13:32:41.907364Z",
     "shell.execute_reply": "2023-05-10T13:32:41.906038Z"
    },
    "papermill": {
     "duration": 0.350319,
     "end_time": "2023-05-10T13:32:41.910577",
     "exception": false,
     "start_time": "2023-05-10T13:32:41.560258",
     "status": "completed"
    },
    "tags": []
   },
   "outputs": [],
   "source": [
    "from sklearn.model_selection import train_test_split"
   ]
  },
  {
   "cell_type": "code",
   "execution_count": 18,
   "id": "89799278",
   "metadata": {
    "execution": {
     "iopub.execute_input": "2023-05-10T13:32:41.950791Z",
     "iopub.status.busy": "2023-05-10T13:32:41.950331Z",
     "iopub.status.idle": "2023-05-10T13:32:41.959444Z",
     "shell.execute_reply": "2023-05-10T13:32:41.957969Z"
    },
    "papermill": {
     "duration": 0.032815,
     "end_time": "2023-05-10T13:32:41.962669",
     "exception": false,
     "start_time": "2023-05-10T13:32:41.929854",
     "status": "completed"
    },
    "tags": []
   },
   "outputs": [],
   "source": [
    "#train=70%\n",
    "#test=30%\n",
    "\n",
    "xtrain,xtest,ytrain,ytest=train_test_split(x,y,test_size=.30,random_state=1) #train_size=.70"
   ]
  },
  {
   "cell_type": "code",
   "execution_count": 19,
   "id": "55512516",
   "metadata": {
    "execution": {
     "iopub.execute_input": "2023-05-10T13:32:42.003272Z",
     "iopub.status.busy": "2023-05-10T13:32:42.002700Z",
     "iopub.status.idle": "2023-05-10T13:32:42.013863Z",
     "shell.execute_reply": "2023-05-10T13:32:42.012489Z"
    },
    "papermill": {
     "duration": 0.034509,
     "end_time": "2023-05-10T13:32:42.016350",
     "exception": false,
     "start_time": "2023-05-10T13:32:41.981841",
     "status": "completed"
    },
    "tags": []
   },
   "outputs": [
    {
     "data": {
      "text/html": [
       "<div>\n",
       "<style scoped>\n",
       "    .dataframe tbody tr th:only-of-type {\n",
       "        vertical-align: middle;\n",
       "    }\n",
       "\n",
       "    .dataframe tbody tr th {\n",
       "        vertical-align: top;\n",
       "    }\n",
       "\n",
       "    .dataframe thead th {\n",
       "        text-align: right;\n",
       "    }\n",
       "</style>\n",
       "<table border=\"1\" class=\"dataframe\">\n",
       "  <thead>\n",
       "    <tr style=\"text-align: right;\">\n",
       "      <th></th>\n",
       "      <th>area</th>\n",
       "    </tr>\n",
       "  </thead>\n",
       "  <tbody>\n",
       "    <tr>\n",
       "      <th>30</th>\n",
       "      <td>2100</td>\n",
       "    </tr>\n",
       "    <tr>\n",
       "      <th>36</th>\n",
       "      <td>1500</td>\n",
       "    </tr>\n",
       "    <tr>\n",
       "      <th>33</th>\n",
       "      <td>2250</td>\n",
       "    </tr>\n",
       "    <tr>\n",
       "      <th>28</th>\n",
       "      <td>2200</td>\n",
       "    </tr>\n",
       "    <tr>\n",
       "      <th>4</th>\n",
       "      <td>3000</td>\n",
       "    </tr>\n",
       "  </tbody>\n",
       "</table>\n",
       "</div>"
      ],
      "text/plain": [
       "    area\n",
       "30  2100\n",
       "36  1500\n",
       "33  2250\n",
       "28  2200\n",
       "4   3000"
      ]
     },
     "execution_count": 19,
     "metadata": {},
     "output_type": "execute_result"
    }
   ],
   "source": [
    "xtrain.head()"
   ]
  },
  {
   "cell_type": "code",
   "execution_count": 20,
   "id": "e880928d",
   "metadata": {
    "execution": {
     "iopub.execute_input": "2023-05-10T13:32:42.057531Z",
     "iopub.status.busy": "2023-05-10T13:32:42.057015Z",
     "iopub.status.idle": "2023-05-10T13:32:42.064332Z",
     "shell.execute_reply": "2023-05-10T13:32:42.063000Z"
    },
    "papermill": {
     "duration": 0.031814,
     "end_time": "2023-05-10T13:32:42.067047",
     "exception": false,
     "start_time": "2023-05-10T13:32:42.035233",
     "status": "completed"
    },
    "tags": []
   },
   "outputs": [
    {
     "data": {
      "text/plain": [
       "(12, 1)"
      ]
     },
     "execution_count": 20,
     "metadata": {},
     "output_type": "execute_result"
    }
   ],
   "source": [
    "xtest.shape"
   ]
  },
  {
   "cell_type": "code",
   "execution_count": 21,
   "id": "654e4e2a",
   "metadata": {
    "execution": {
     "iopub.execute_input": "2023-05-10T13:32:42.108177Z",
     "iopub.status.busy": "2023-05-10T13:32:42.106907Z",
     "iopub.status.idle": "2023-05-10T13:32:42.115786Z",
     "shell.execute_reply": "2023-05-10T13:32:42.114233Z"
    },
    "papermill": {
     "duration": 0.032994,
     "end_time": "2023-05-10T13:32:42.119081",
     "exception": false,
     "start_time": "2023-05-10T13:32:42.086087",
     "status": "completed"
    },
    "tags": []
   },
   "outputs": [
    {
     "data": {
      "text/plain": [
       "(28, 1)"
      ]
     },
     "execution_count": 21,
     "metadata": {},
     "output_type": "execute_result"
    }
   ],
   "source": [
    "xtrain.shape"
   ]
  },
  {
   "cell_type": "markdown",
   "id": "b5a53b6e",
   "metadata": {
    "papermill": {
     "duration": 0.018482,
     "end_time": "2023-05-10T13:32:42.156901",
     "exception": false,
     "start_time": "2023-05-10T13:32:42.138419",
     "status": "completed"
    },
    "tags": []
   },
   "source": [
    "## Linear regression"
   ]
  },
  {
   "cell_type": "code",
   "execution_count": 22,
   "id": "c0fe7ff2",
   "metadata": {
    "execution": {
     "iopub.execute_input": "2023-05-10T13:32:42.197256Z",
     "iopub.status.busy": "2023-05-10T13:32:42.196775Z",
     "iopub.status.idle": "2023-05-10T13:32:42.316422Z",
     "shell.execute_reply": "2023-05-10T13:32:42.315234Z"
    },
    "papermill": {
     "duration": 0.14378,
     "end_time": "2023-05-10T13:32:42.319668",
     "exception": false,
     "start_time": "2023-05-10T13:32:42.175888",
     "status": "completed"
    },
    "tags": []
   },
   "outputs": [],
   "source": [
    "from sklearn.linear_model import LinearRegression as lreg"
   ]
  },
  {
   "cell_type": "code",
   "execution_count": 23,
   "id": "3c147175",
   "metadata": {
    "execution": {
     "iopub.execute_input": "2023-05-10T13:32:42.363344Z",
     "iopub.status.busy": "2023-05-10T13:32:42.362846Z",
     "iopub.status.idle": "2023-05-10T13:32:42.367635Z",
     "shell.execute_reply": "2023-05-10T13:32:42.366729Z"
    },
    "papermill": {
     "duration": 0.02789,
     "end_time": "2023-05-10T13:32:42.369903",
     "exception": false,
     "start_time": "2023-05-10T13:32:42.342013",
     "status": "completed"
    },
    "tags": []
   },
   "outputs": [],
   "source": [
    "reg= lreg()"
   ]
  },
  {
   "cell_type": "code",
   "execution_count": 24,
   "id": "ecf4709b",
   "metadata": {
    "execution": {
     "iopub.execute_input": "2023-05-10T13:32:42.412248Z",
     "iopub.status.busy": "2023-05-10T13:32:42.410992Z",
     "iopub.status.idle": "2023-05-10T13:32:42.441987Z",
     "shell.execute_reply": "2023-05-10T13:32:42.440931Z"
    },
    "papermill": {
     "duration": 0.055134,
     "end_time": "2023-05-10T13:32:42.444562",
     "exception": false,
     "start_time": "2023-05-10T13:32:42.389428",
     "status": "completed"
    },
    "tags": []
   },
   "outputs": [
    {
     "data": {
      "text/html": [
       "<style>#sk-container-id-1 {color: black;background-color: white;}#sk-container-id-1 pre{padding: 0;}#sk-container-id-1 div.sk-toggleable {background-color: white;}#sk-container-id-1 label.sk-toggleable__label {cursor: pointer;display: block;width: 100%;margin-bottom: 0;padding: 0.3em;box-sizing: border-box;text-align: center;}#sk-container-id-1 label.sk-toggleable__label-arrow:before {content: \"▸\";float: left;margin-right: 0.25em;color: #696969;}#sk-container-id-1 label.sk-toggleable__label-arrow:hover:before {color: black;}#sk-container-id-1 div.sk-estimator:hover label.sk-toggleable__label-arrow:before {color: black;}#sk-container-id-1 div.sk-toggleable__content {max-height: 0;max-width: 0;overflow: hidden;text-align: left;background-color: #f0f8ff;}#sk-container-id-1 div.sk-toggleable__content pre {margin: 0.2em;color: black;border-radius: 0.25em;background-color: #f0f8ff;}#sk-container-id-1 input.sk-toggleable__control:checked~div.sk-toggleable__content {max-height: 200px;max-width: 100%;overflow: auto;}#sk-container-id-1 input.sk-toggleable__control:checked~label.sk-toggleable__label-arrow:before {content: \"▾\";}#sk-container-id-1 div.sk-estimator input.sk-toggleable__control:checked~label.sk-toggleable__label {background-color: #d4ebff;}#sk-container-id-1 div.sk-label input.sk-toggleable__control:checked~label.sk-toggleable__label {background-color: #d4ebff;}#sk-container-id-1 input.sk-hidden--visually {border: 0;clip: rect(1px 1px 1px 1px);clip: rect(1px, 1px, 1px, 1px);height: 1px;margin: -1px;overflow: hidden;padding: 0;position: absolute;width: 1px;}#sk-container-id-1 div.sk-estimator {font-family: monospace;background-color: #f0f8ff;border: 1px dotted black;border-radius: 0.25em;box-sizing: border-box;margin-bottom: 0.5em;}#sk-container-id-1 div.sk-estimator:hover {background-color: #d4ebff;}#sk-container-id-1 div.sk-parallel-item::after {content: \"\";width: 100%;border-bottom: 1px solid gray;flex-grow: 1;}#sk-container-id-1 div.sk-label:hover label.sk-toggleable__label {background-color: #d4ebff;}#sk-container-id-1 div.sk-serial::before {content: \"\";position: absolute;border-left: 1px solid gray;box-sizing: border-box;top: 0;bottom: 0;left: 50%;z-index: 0;}#sk-container-id-1 div.sk-serial {display: flex;flex-direction: column;align-items: center;background-color: white;padding-right: 0.2em;padding-left: 0.2em;position: relative;}#sk-container-id-1 div.sk-item {position: relative;z-index: 1;}#sk-container-id-1 div.sk-parallel {display: flex;align-items: stretch;justify-content: center;background-color: white;position: relative;}#sk-container-id-1 div.sk-item::before, #sk-container-id-1 div.sk-parallel-item::before {content: \"\";position: absolute;border-left: 1px solid gray;box-sizing: border-box;top: 0;bottom: 0;left: 50%;z-index: -1;}#sk-container-id-1 div.sk-parallel-item {display: flex;flex-direction: column;z-index: 1;position: relative;background-color: white;}#sk-container-id-1 div.sk-parallel-item:first-child::after {align-self: flex-end;width: 50%;}#sk-container-id-1 div.sk-parallel-item:last-child::after {align-self: flex-start;width: 50%;}#sk-container-id-1 div.sk-parallel-item:only-child::after {width: 0;}#sk-container-id-1 div.sk-dashed-wrapped {border: 1px dashed gray;margin: 0 0.4em 0.5em 0.4em;box-sizing: border-box;padding-bottom: 0.4em;background-color: white;}#sk-container-id-1 div.sk-label label {font-family: monospace;font-weight: bold;display: inline-block;line-height: 1.2em;}#sk-container-id-1 div.sk-label-container {text-align: center;}#sk-container-id-1 div.sk-container {/* jupyter's `normalize.less` sets `[hidden] { display: none; }` but bootstrap.min.css set `[hidden] { display: none !important; }` so we also need the `!important` here to be able to override the default hidden behavior on the sphinx rendered scikit-learn.org. See: https://github.com/scikit-learn/scikit-learn/issues/21755 */display: inline-block !important;position: relative;}#sk-container-id-1 div.sk-text-repr-fallback {display: none;}</style><div id=\"sk-container-id-1\" class=\"sk-top-container\"><div class=\"sk-text-repr-fallback\"><pre>LinearRegression()</pre><b>In a Jupyter environment, please rerun this cell to show the HTML representation or trust the notebook. <br />On GitHub, the HTML representation is unable to render, please try loading this page with nbviewer.org.</b></div><div class=\"sk-container\" hidden><div class=\"sk-item\"><div class=\"sk-estimator sk-toggleable\"><input class=\"sk-toggleable__control sk-hidden--visually\" id=\"sk-estimator-id-1\" type=\"checkbox\" checked><label for=\"sk-estimator-id-1\" class=\"sk-toggleable__label sk-toggleable__label-arrow\">LinearRegression</label><div class=\"sk-toggleable__content\"><pre>LinearRegression()</pre></div></div></div></div></div>"
      ],
      "text/plain": [
       "LinearRegression()"
      ]
     },
     "execution_count": 24,
     "metadata": {},
     "output_type": "execute_result"
    }
   ],
   "source": [
    "reg.fit(xtrain,ytrain) #training the data"
   ]
  },
  {
   "cell_type": "code",
   "execution_count": 25,
   "id": "79215aa7",
   "metadata": {
    "execution": {
     "iopub.execute_input": "2023-05-10T13:32:42.486569Z",
     "iopub.status.busy": "2023-05-10T13:32:42.486107Z",
     "iopub.status.idle": "2023-05-10T13:32:42.497895Z",
     "shell.execute_reply": "2023-05-10T13:32:42.496563Z"
    },
    "papermill": {
     "duration": 0.035582,
     "end_time": "2023-05-10T13:32:42.500528",
     "exception": false,
     "start_time": "2023-05-10T13:32:42.464946",
     "status": "completed"
    },
    "tags": []
   },
   "outputs": [
    {
     "name": "stderr",
     "output_type": "stream",
     "text": [
      "/opt/conda/lib/python3.10/site-packages/sklearn/base.py:439: UserWarning: X does not have valid feature names, but LinearRegression was fitted with feature names\n",
      "  warnings.warn(\n"
     ]
    },
    {
     "data": {
      "text/plain": [
       "array([[31196.97783442]])"
      ]
     },
     "execution_count": 25,
     "metadata": {},
     "output_type": "execute_result"
    }
   ],
   "source": [
    "reg.predict([[2000]])"
   ]
  },
  {
   "cell_type": "code",
   "execution_count": 26,
   "id": "1e6a9308",
   "metadata": {
    "execution": {
     "iopub.execute_input": "2023-05-10T13:32:42.544036Z",
     "iopub.status.busy": "2023-05-10T13:32:42.543569Z",
     "iopub.status.idle": "2023-05-10T13:32:42.549243Z",
     "shell.execute_reply": "2023-05-10T13:32:42.548072Z"
    },
    "papermill": {
     "duration": 0.031009,
     "end_time": "2023-05-10T13:32:42.551623",
     "exception": false,
     "start_time": "2023-05-10T13:32:42.520614",
     "status": "completed"
    },
    "tags": []
   },
   "outputs": [],
   "source": [
    "import warnings\n",
    "warnings.filterwarnings(\"ignore\")"
   ]
  },
  {
   "cell_type": "code",
   "execution_count": 27,
   "id": "3510e0cb",
   "metadata": {
    "execution": {
     "iopub.execute_input": "2023-05-10T13:32:42.593580Z",
     "iopub.status.busy": "2023-05-10T13:32:42.593117Z",
     "iopub.status.idle": "2023-05-10T13:32:42.601324Z",
     "shell.execute_reply": "2023-05-10T13:32:42.600064Z"
    },
    "papermill": {
     "duration": 0.032554,
     "end_time": "2023-05-10T13:32:42.603827",
     "exception": false,
     "start_time": "2023-05-10T13:32:42.571273",
     "status": "completed"
    },
    "tags": []
   },
   "outputs": [
    {
     "data": {
      "text/plain": [
       "array([[31196.97783442]])"
      ]
     },
     "execution_count": 27,
     "metadata": {},
     "output_type": "execute_result"
    }
   ],
   "source": [
    "reg.predict([[2000]])"
   ]
  },
  {
   "cell_type": "code",
   "execution_count": 28,
   "id": "efd9a258",
   "metadata": {
    "execution": {
     "iopub.execute_input": "2023-05-10T13:32:42.645384Z",
     "iopub.status.busy": "2023-05-10T13:32:42.644885Z",
     "iopub.status.idle": "2023-05-10T13:32:42.656299Z",
     "shell.execute_reply": "2023-05-10T13:32:42.655087Z"
    },
    "papermill": {
     "duration": 0.035122,
     "end_time": "2023-05-10T13:32:42.658677",
     "exception": false,
     "start_time": "2023-05-10T13:32:42.623555",
     "status": "completed"
    },
    "tags": []
   },
   "outputs": [
    {
     "data": {
      "text/html": [
       "<div>\n",
       "<style scoped>\n",
       "    .dataframe tbody tr th:only-of-type {\n",
       "        vertical-align: middle;\n",
       "    }\n",
       "\n",
       "    .dataframe tbody tr th {\n",
       "        vertical-align: top;\n",
       "    }\n",
       "\n",
       "    .dataframe thead th {\n",
       "        text-align: right;\n",
       "    }\n",
       "</style>\n",
       "<table border=\"1\" class=\"dataframe\">\n",
       "  <thead>\n",
       "    <tr style=\"text-align: right;\">\n",
       "      <th></th>\n",
       "      <th>rent</th>\n",
       "    </tr>\n",
       "  </thead>\n",
       "  <tbody>\n",
       "    <tr>\n",
       "      <th>2</th>\n",
       "      <td>41050</td>\n",
       "    </tr>\n",
       "    <tr>\n",
       "      <th>31</th>\n",
       "      <td>35010</td>\n",
       "    </tr>\n",
       "    <tr>\n",
       "      <th>3</th>\n",
       "      <td>36100</td>\n",
       "    </tr>\n",
       "    <tr>\n",
       "      <th>21</th>\n",
       "      <td>33500</td>\n",
       "    </tr>\n",
       "    <tr>\n",
       "      <th>27</th>\n",
       "      <td>25000</td>\n",
       "    </tr>\n",
       "  </tbody>\n",
       "</table>\n",
       "</div>"
      ],
      "text/plain": [
       "     rent\n",
       "2   41050\n",
       "31  35010\n",
       "3   36100\n",
       "21  33500\n",
       "27  25000"
      ]
     },
     "execution_count": 28,
     "metadata": {},
     "output_type": "execute_result"
    }
   ],
   "source": [
    "ytest.head()"
   ]
  },
  {
   "cell_type": "code",
   "execution_count": 29,
   "id": "202174b9",
   "metadata": {
    "execution": {
     "iopub.execute_input": "2023-05-10T13:32:42.701260Z",
     "iopub.status.busy": "2023-05-10T13:32:42.700760Z",
     "iopub.status.idle": "2023-05-10T13:32:42.711224Z",
     "shell.execute_reply": "2023-05-10T13:32:42.709965Z"
    },
    "papermill": {
     "duration": 0.034988,
     "end_time": "2023-05-10T13:32:42.713945",
     "exception": false,
     "start_time": "2023-05-10T13:32:42.678957",
     "status": "completed"
    },
    "tags": []
   },
   "outputs": [
    {
     "data": {
      "text/plain": [
       "array([[41249.41351663],\n",
       "       [33207.46497086],\n",
       "       [36223.19567552],\n",
       "       [33207.46497086],\n",
       "       [27176.00356153],\n",
       "       [53312.33633528],\n",
       "       [61354.28488105],\n",
       "       [33207.46497086],\n",
       "       [45270.38778951],\n",
       "       [46275.63135774],\n",
       "       [41249.41351663],\n",
       "       [22149.78572043]])"
      ]
     },
     "execution_count": 29,
     "metadata": {},
     "output_type": "execute_result"
    }
   ],
   "source": [
    "ypred=reg.predict(xtest)\n",
    "ypred"
   ]
  },
  {
   "cell_type": "code",
   "execution_count": 30,
   "id": "453dc6df",
   "metadata": {
    "execution": {
     "iopub.execute_input": "2023-05-10T13:32:42.757986Z",
     "iopub.status.busy": "2023-05-10T13:32:42.757536Z",
     "iopub.status.idle": "2023-05-10T13:32:42.762756Z",
     "shell.execute_reply": "2023-05-10T13:32:42.761376Z"
    },
    "papermill": {
     "duration": 0.0311,
     "end_time": "2023-05-10T13:32:42.765452",
     "exception": false,
     "start_time": "2023-05-10T13:32:42.734352",
     "status": "completed"
    },
    "tags": []
   },
   "outputs": [],
   "source": [
    "from sklearn.metrics import mean_squared_error"
   ]
  },
  {
   "cell_type": "code",
   "execution_count": 31,
   "id": "f7d0b1e4",
   "metadata": {
    "execution": {
     "iopub.execute_input": "2023-05-10T13:32:42.808078Z",
     "iopub.status.busy": "2023-05-10T13:32:42.807636Z",
     "iopub.status.idle": "2023-05-10T13:32:42.816937Z",
     "shell.execute_reply": "2023-05-10T13:32:42.815684Z"
    },
    "papermill": {
     "duration": 0.033784,
     "end_time": "2023-05-10T13:32:42.819379",
     "exception": false,
     "start_time": "2023-05-10T13:32:42.785595",
     "status": "completed"
    },
    "tags": []
   },
   "outputs": [
    {
     "data": {
      "text/plain": [
       "8062903.1431933"
      ]
     },
     "execution_count": 31,
     "metadata": {},
     "output_type": "execute_result"
    }
   ],
   "source": [
    "mse= mean_squared_error(ytest,ypred)\n",
    "mse"
   ]
  },
  {
   "cell_type": "code",
   "execution_count": 32,
   "id": "540f3124",
   "metadata": {
    "execution": {
     "iopub.execute_input": "2023-05-10T13:32:42.863844Z",
     "iopub.status.busy": "2023-05-10T13:32:42.863231Z",
     "iopub.status.idle": "2023-05-10T13:32:42.868846Z",
     "shell.execute_reply": "2023-05-10T13:32:42.867826Z"
    },
    "papermill": {
     "duration": 0.030732,
     "end_time": "2023-05-10T13:32:42.871451",
     "exception": false,
     "start_time": "2023-05-10T13:32:42.840719",
     "status": "completed"
    },
    "tags": []
   },
   "outputs": [],
   "source": [
    "from sklearn.metrics import mean_absolute_error"
   ]
  },
  {
   "cell_type": "code",
   "execution_count": 33,
   "id": "f4346429",
   "metadata": {
    "execution": {
     "iopub.execute_input": "2023-05-10T13:32:42.914939Z",
     "iopub.status.busy": "2023-05-10T13:32:42.913916Z",
     "iopub.status.idle": "2023-05-10T13:32:42.924056Z",
     "shell.execute_reply": "2023-05-10T13:32:42.922782Z"
    },
    "papermill": {
     "duration": 0.03508,
     "end_time": "2023-05-10T13:32:42.926953",
     "exception": false,
     "start_time": "2023-05-10T13:32:42.891873",
     "status": "completed"
    },
    "tags": []
   },
   "outputs": [
    {
     "data": {
      "text/plain": [
       "1801.0316105721522"
      ]
     },
     "execution_count": 33,
     "metadata": {},
     "output_type": "execute_result"
    }
   ],
   "source": [
    "mae= mean_absolute_error(ytest,ypred)\n",
    "mae"
   ]
  },
  {
   "cell_type": "code",
   "execution_count": 34,
   "id": "ae2eff19",
   "metadata": {
    "execution": {
     "iopub.execute_input": "2023-05-10T13:32:42.970484Z",
     "iopub.status.busy": "2023-05-10T13:32:42.969966Z",
     "iopub.status.idle": "2023-05-10T13:32:42.977417Z",
     "shell.execute_reply": "2023-05-10T13:32:42.976502Z"
    },
    "papermill": {
     "duration": 0.031945,
     "end_time": "2023-05-10T13:32:42.979495",
     "exception": false,
     "start_time": "2023-05-10T13:32:42.947550",
     "status": "completed"
    },
    "tags": []
   },
   "outputs": [
    {
     "data": {
      "text/plain": [
       "array([[20.10487136]])"
      ]
     },
     "execution_count": 34,
     "metadata": {},
     "output_type": "execute_result"
    }
   ],
   "source": [
    "m= reg.coef_\n",
    "m"
   ]
  },
  {
   "cell_type": "code",
   "execution_count": 35,
   "id": "9ff50346",
   "metadata": {
    "execution": {
     "iopub.execute_input": "2023-05-10T13:32:43.023778Z",
     "iopub.status.busy": "2023-05-10T13:32:43.023253Z",
     "iopub.status.idle": "2023-05-10T13:32:43.030384Z",
     "shell.execute_reply": "2023-05-10T13:32:43.029415Z"
    },
    "papermill": {
     "duration": 0.032704,
     "end_time": "2023-05-10T13:32:43.032621",
     "exception": false,
     "start_time": "2023-05-10T13:32:42.999917",
     "status": "completed"
    },
    "tags": []
   },
   "outputs": [
    {
     "data": {
      "text/plain": [
       "array([-9012.76489443])"
      ]
     },
     "execution_count": 35,
     "metadata": {},
     "output_type": "execute_result"
    }
   ],
   "source": [
    "c=reg.intercept_\n",
    "c"
   ]
  },
  {
   "cell_type": "code",
   "execution_count": 36,
   "id": "403d77a9",
   "metadata": {
    "execution": {
     "iopub.execute_input": "2023-05-10T13:32:43.077910Z",
     "iopub.status.busy": "2023-05-10T13:32:43.077465Z",
     "iopub.status.idle": "2023-05-10T13:32:43.084708Z",
     "shell.execute_reply": "2023-05-10T13:32:43.083640Z"
    },
    "papermill": {
     "duration": 0.033385,
     "end_time": "2023-05-10T13:32:43.087196",
     "exception": false,
     "start_time": "2023-05-10T13:32:43.053811",
     "status": "completed"
    },
    "tags": []
   },
   "outputs": [
    {
     "data": {
      "text/plain": [
       "array([[31196.97783442]])"
      ]
     },
     "execution_count": 36,
     "metadata": {},
     "output_type": "execute_result"
    }
   ],
   "source": [
    "#y=(m*x)+c\n",
    "result=m*2000+c\n",
    "result"
   ]
  },
  {
   "cell_type": "code",
   "execution_count": 37,
   "id": "f196b338",
   "metadata": {
    "execution": {
     "iopub.execute_input": "2023-05-10T13:32:43.131888Z",
     "iopub.status.busy": "2023-05-10T13:32:43.131328Z",
     "iopub.status.idle": "2023-05-10T13:32:43.140293Z",
     "shell.execute_reply": "2023-05-10T13:32:43.138895Z"
    },
    "papermill": {
     "duration": 0.034681,
     "end_time": "2023-05-10T13:32:43.142958",
     "exception": false,
     "start_time": "2023-05-10T13:32:43.108277",
     "status": "completed"
    },
    "tags": []
   },
   "outputs": [
    {
     "data": {
      "text/plain": [
       "array([[31196.97783442]])"
      ]
     },
     "execution_count": 37,
     "metadata": {},
     "output_type": "execute_result"
    }
   ],
   "source": [
    "reg.predict([[2000]])"
   ]
  },
  {
   "cell_type": "code",
   "execution_count": 38,
   "id": "70ea89a3",
   "metadata": {
    "execution": {
     "iopub.execute_input": "2023-05-10T13:32:43.188501Z",
     "iopub.status.busy": "2023-05-10T13:32:43.187960Z",
     "iopub.status.idle": "2023-05-10T13:32:43.432861Z",
     "shell.execute_reply": "2023-05-10T13:32:43.431570Z"
    },
    "papermill": {
     "duration": 0.271426,
     "end_time": "2023-05-10T13:32:43.436247",
     "exception": false,
     "start_time": "2023-05-10T13:32:43.164821",
     "status": "completed"
    },
    "tags": []
   },
   "outputs": [
    {
     "data": {
      "text/plain": [
       "[<matplotlib.lines.Line2D at 0x7acb11385db0>]"
      ]
     },
     "execution_count": 38,
     "metadata": {},
     "output_type": "execute_result"
    },
    {
     "data": {
      "image/png": "[encoded data removed]",
      "text/plain": [
       "<Figure size 640x480 with 1 Axes>"
      ]
     },
     "metadata": {},
     "output_type": "display_data"
    }
   ],
   "source": [
    "#best fit line\n",
    "plt.plot(xtest,reg.predict(xtest))"
   ]
  },
  {
   "cell_type": "code",
   "execution_count": 39,
   "id": "06308ed7",
   "metadata": {
    "execution": {
     "iopub.execute_input": "2023-05-10T13:32:43.484217Z",
     "iopub.status.busy": "2023-05-10T13:32:43.483643Z",
     "iopub.status.idle": "2023-05-10T13:32:43.740431Z",
     "shell.execute_reply": "2023-05-10T13:32:43.738948Z"
    },
    "papermill": {
     "duration": 0.285697,
     "end_time": "2023-05-10T13:32:43.743582",
     "exception": false,
     "start_time": "2023-05-10T13:32:43.457885",
     "status": "completed"
    },
    "tags": []
   },
   "outputs": [
    {
     "data": {
      "text/plain": [
       "[<matplotlib.lines.Line2D at 0x7acb1118d060>]"
      ]
     },
     "execution_count": 39,
     "metadata": {},
     "output_type": "execute_result"
    },
    {
     "data": {
      "image/png": "[encoded data removed]",
      "text/plain": [
       "<Figure size 640x480 with 1 Axes>"
      ]
     },
     "metadata": {},
     "output_type": "display_data"
    }
   ],
   "source": [
    "plt.scatter(df[\"area\"],df[\"rent\"],color=\"red\",marker=\"+\")\n",
    "plt.xlabel(\"Area in Square Feet\",color=\"red\")\n",
    "plt.ylabel(\"Rent in BDT\",color=\"red\")\n",
    "plt.title(\"Rent Plot\", color=\"green\")\n",
    "plt.plot(df.area,reg.predict(df[[\"area\"]]),color=\"green\") #for whole data"
   ]
  },
  {
   "cell_type": "markdown",
   "id": "d99cf69c",
   "metadata": {
    "papermill": {
     "duration": 0.022877,
     "end_time": "2023-05-10T13:32:43.789377",
     "exception": false,
     "start_time": "2023-05-10T13:32:43.766500",
     "status": "completed"
    },
    "tags": []
   },
   "source": [
    "## Save ML Model"
   ]
  },
  {
   "cell_type": "code",
   "execution_count": 40,
   "id": "6c46a6f2",
   "metadata": {
    "execution": {
     "iopub.execute_input": "2023-05-10T13:32:43.836948Z",
     "iopub.status.busy": "2023-05-10T13:32:43.836449Z",
     "iopub.status.idle": "2023-05-10T13:32:43.842291Z",
     "shell.execute_reply": "2023-05-10T13:32:43.841254Z"
    },
    "papermill": {
     "duration": 0.032598,
     "end_time": "2023-05-10T13:32:43.844835",
     "exception": false,
     "start_time": "2023-05-10T13:32:43.812237",
     "status": "completed"
    },
    "tags": []
   },
   "outputs": [],
   "source": [
    "import pickle as pk"
   ]
  },
  {
   "cell_type": "code",
   "execution_count": 41,
   "id": "8731c5e6",
   "metadata": {
    "execution": {
     "iopub.execute_input": "2023-05-10T13:32:43.894039Z",
     "iopub.status.busy": "2023-05-10T13:32:43.892935Z",
     "iopub.status.idle": "2023-05-10T13:32:43.900685Z",
     "shell.execute_reply": "2023-05-10T13:32:43.898977Z"
    },
    "papermill": {
     "duration": 0.036278,
     "end_time": "2023-05-10T13:32:43.903750",
     "exception": false,
     "start_time": "2023-05-10T13:32:43.867472",
     "status": "completed"
    },
    "tags": []
   },
   "outputs": [],
   "source": [
    "pk.dump(reg,open('reg1','wb')) #write binary"
   ]
  },
  {
   "cell_type": "markdown",
   "id": "c2b7e424",
   "metadata": {
    "papermill": {
     "duration": 0.023293,
     "end_time": "2023-05-10T13:32:43.949774",
     "exception": false,
     "start_time": "2023-05-10T13:32:43.926481",
     "status": "completed"
    },
    "tags": []
   },
   "source": [
    "## Joblib"
   ]
  },
  {
   "cell_type": "code",
   "execution_count": 42,
   "id": "47602e77",
   "metadata": {
    "execution": {
     "iopub.execute_input": "2023-05-10T13:32:43.997780Z",
     "iopub.status.busy": "2023-05-10T13:32:43.997040Z",
     "iopub.status.idle": "2023-05-10T13:32:44.006534Z",
     "shell.execute_reply": "2023-05-10T13:32:44.004985Z"
    },
    "papermill": {
     "duration": 0.037187,
     "end_time": "2023-05-10T13:32:44.009545",
     "exception": false,
     "start_time": "2023-05-10T13:32:43.972358",
     "status": "completed"
    },
    "tags": []
   },
   "outputs": [
    {
     "data": {
      "text/plain": [
       "['reg2']"
      ]
     },
     "execution_count": 42,
     "metadata": {},
     "output_type": "execute_result"
    }
   ],
   "source": [
    "import joblib\n",
    "joblib.dump(reg,'reg2')"
   ]
  },
  {
   "cell_type": "code",
   "execution_count": 43,
   "id": "8f29fa30",
   "metadata": {
    "execution": {
     "iopub.execute_input": "2023-05-10T13:32:44.059877Z",
     "iopub.status.busy": "2023-05-10T13:32:44.059010Z",
     "iopub.status.idle": "2023-05-10T13:32:44.065073Z",
     "shell.execute_reply": "2023-05-10T13:32:44.064141Z"
    },
    "papermill": {
     "duration": 0.034567,
     "end_time": "2023-05-10T13:32:44.067813",
     "exception": false,
     "start_time": "2023-05-10T13:32:44.033246",
     "status": "completed"
    },
    "tags": []
   },
   "outputs": [],
   "source": [
    "model2=joblib.load('reg2')"
   ]
  },
  {
   "cell_type": "code",
   "execution_count": 44,
   "id": "0350f873",
   "metadata": {
    "execution": {
     "iopub.execute_input": "2023-05-10T13:32:44.117037Z",
     "iopub.status.busy": "2023-05-10T13:32:44.115724Z",
     "iopub.status.idle": "2023-05-10T13:32:44.124111Z",
     "shell.execute_reply": "2023-05-10T13:32:44.122915Z"
    },
    "papermill": {
     "duration": 0.035909,
     "end_time": "2023-05-10T13:32:44.126619",
     "exception": false,
     "start_time": "2023-05-10T13:32:44.090710",
     "status": "completed"
    },
    "tags": []
   },
   "outputs": [
    {
     "data": {
      "text/plain": [
       "array([[31196.97783442]])"
      ]
     },
     "execution_count": 44,
     "metadata": {},
     "output_type": "execute_result"
    }
   ],
   "source": [
    "model2.predict([[2000]])"
   ]
  }
 ],
 "metadata": {
  "kernelspec": {
   "display_name": "Python 3",
   "language": "python",
   "name": "python3"
  },
  "language_info": {
   "codemirror_mode": {
    "name": "ipython",
    "version": 3
   },
   "file_extension": ".py",
   "mimetype": "text/x-python",
   "name": "python",
   "nbconvert_exporter": "python",
   "pygments_lexer": "ipython3",
   "version": "3.10.10"
  },
  "papermill": {
   "default_parameters": {},
   "duration": 22.951011,
   "end_time": "2023-05-10T13:32:46.543062",
   "environment_variables": {},
   "exception": null,
   "input_path": "__notebook__.ipynb",
   "output_path": "__notebook__.ipynb",
   "parameters": {},
   "start_time": "2023-05-10T13:32:23.592051",
   "version": "2.4.0"
  }
 },
 "nbformat": 4,
 "nbformat_minor": 5
}
